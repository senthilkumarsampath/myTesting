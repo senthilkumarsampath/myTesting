{
 "cells": [
  {
   "cell_type": "code",
   "execution_count": null,
   "metadata": {},
   "outputs": [],
   "source": [
    "import re\n",
    "from docx import Document\n",
    "Doc = Document(\"/Users/senthil/Desktop/Senthil/myTesting/Test_Docx_clean-up.docx\")\n",
    "# regex for finding the figure, table and text box placeholder with numerial citations\n",
    "spaces_pattern = re.compile (\"^ +$\")\n",
    "break_char = \"^(?:\\<[Bb]r\\>?)(?:eak)?(?:\\>)(?: +)?$\"\n",
    "placeholder = \"^[iI]nsert\\s([fF]ig\\.?(?:ure)?(?:s)?|[tT]able(?:s)?|(?:[Tt](?:ext))?\\s?[bB](?:ox)(?:es)?)\\s\\d+(\\.?\\d+)?\"\n",
    "placeholder2 = re.compile (\"(?i)^(?: +)?\\<(?:insert )?[ft]?(?:igure|able)? ?\\d+[.-]\\d+(?: here)?\\>\")\n",
    "for paragraphs in Doc.paragraphs:\n",
    "    if re.search(spaces_pattern,paragraphs.text) or re.search(placeholder,paragraphs.text) or paragraphs.text.count(\"\\n\") == len(paragraphs.text) or re.search(break_char,paragraphs.text) or re.search(placeholder2,paragraphs.text):\n",
    "        print(paragraphs.text)\n",
    "        para = paragraphs._element\n",
    "        para.getparent().remove(para)\n",
    "        para._para = para._element = None\n",
    "        # print(start_space)\n",
    "Doc.save(\"/Users/senthil/Desktop/Senthil/myTesting/C01-test.docx\")"
   ]
  },
  {
   "cell_type": "code",
   "execution_count": null,
   "metadata": {},
   "outputs": [],
   "source": [
    "import xml.etree.ElementTree as ET\n",
    "\n",
    "xml_data = open(\"/Users/senthil/Desktop/Senthil/myTesting/test.xml\", 'r+')  # Read file\n",
    "search_str = '<w:body>'\n",
    "xml_data.write(re.sub(\"<w:body>\",\"<w:body><w:p>senthil</w:p>\",search_str))\n",
    "print(xml_data)"
   ]
  }
 ],
 "metadata": {
  "kernelspec": {
   "display_name": "Python 3.10.7 64-bit",
   "language": "python",
   "name": "python3"
  },
  "language_info": {
   "codemirror_mode": {
    "name": "ipython",
    "version": 3
   },
   "file_extension": ".py",
   "mimetype": "text/x-python",
   "name": "python",
   "nbconvert_exporter": "python",
   "pygments_lexer": "ipython3",
   "version": "3.10.7"
  },
  "orig_nbformat": 4,
  "vscode": {
   "interpreter": {
    "hash": "aee8b7b246df8f9039afb4144a1f6fd8d2ca17a180786b69acc140d282b71a49"
   }
  }
 },
 "nbformat": 4,
 "nbformat_minor": 2
}
