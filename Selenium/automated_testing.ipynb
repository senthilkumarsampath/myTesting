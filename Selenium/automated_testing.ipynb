{
 "cells": [
  {
   "cell_type": "code",
   "execution_count": 5,
   "metadata": {},
   "outputs": [
    {
     "ename": "InvalidSelectorException",
     "evalue": "Message: invalid selector: Unable to locate an element with the xpath expression //div[@id='root']//[@class='search'] because of the following error:\nSyntaxError: Failed to execute 'evaluate' on 'Document': The string '//div[@id='root']//[@class='search']' is not a valid XPath expression.\n  (Session info: chrome=112.0.5615.137)\nStacktrace:\n0   chromedriver                        0x0000000100ef5670 chromedriver + 4298352\n1   chromedriver                        0x0000000100eedbbc chromedriver + 4266940\n2   chromedriver                        0x0000000100b20758 chromedriver + 280408\n3   chromedriver                        0x0000000100b240c8 chromedriver + 295112\n4   chromedriver                        0x0000000100b23d74 chromedriver + 294260\n5   chromedriver                        0x0000000100b24170 chromedriver + 295280\n6   chromedriver                        0x0000000100b5b81c chromedriver + 522268\n7   chromedriver                        0x0000000100b94080 chromedriver + 753792\n8   chromedriver                        0x0000000100b4e2d0 chromedriver + 467664\n9   chromedriver                        0x0000000100b4f354 chromedriver + 471892\n10  chromedriver                        0x0000000100eb56c4 chromedriver + 4036292\n11  chromedriver                        0x0000000100eb9c64 chromedriver + 4054116\n12  chromedriver                        0x0000000100ec02d8 chromedriver + 4080344\n13  chromedriver                        0x0000000100eba970 chromedriver + 4057456\n14  chromedriver                        0x0000000100e918dc chromedriver + 3889372\n15  chromedriver                        0x0000000100ed925c chromedriver + 4182620\n16  chromedriver                        0x0000000100ed93b4 chromedriver + 4182964\n17  chromedriver                        0x0000000100ee80f4 chromedriver + 4243700\n18  libsystem_pthread.dylib             0x0000000193db3fa8 _pthread_start + 148\n19  libsystem_pthread.dylib             0x0000000193daeda0 thread_start + 8\n",
     "output_type": "error",
     "traceback": [
      "\u001b[0;31m---------------------------------------------------------------------------\u001b[0m",
      "\u001b[0;31mInvalidSelectorException\u001b[0m                  Traceback (most recent call last)",
      "Cell \u001b[0;32mIn[5], line 22\u001b[0m\n\u001b[1;32m     19\u001b[0m \u001b[39m# Submit the login form\u001b[39;00m\n\u001b[1;32m     20\u001b[0m password_input\u001b[39m.\u001b[39msend_keys(Keys\u001b[39m.\u001b[39mRETURN)\n\u001b[0;32m---> 22\u001b[0m search \u001b[39m=\u001b[39m driver\u001b[39m.\u001b[39;49mfind_element(By\u001b[39m.\u001b[39;49mXPATH, \u001b[39m\"\u001b[39;49m\u001b[39m//div[@id=\u001b[39;49m\u001b[39m'\u001b[39;49m\u001b[39mroot\u001b[39;49m\u001b[39m'\u001b[39;49m\u001b[39m]//[@class=\u001b[39;49m\u001b[39m'\u001b[39;49m\u001b[39msearch\u001b[39;49m\u001b[39m'\u001b[39;49m\u001b[39m]\u001b[39;49m\u001b[39m\"\u001b[39;49m)\n\u001b[1;32m     23\u001b[0m search\u001b[39m.\u001b[39msend_keys(\u001b[39m\"\u001b[39m\u001b[39mAI-NAPH\u001b[39m\u001b[39m\"\u001b[39m)\n\u001b[1;32m     25\u001b[0m \u001b[39m# Interact with the dashboard or perform any necessary automated tests\u001b[39;00m\n\u001b[1;32m     26\u001b[0m \u001b[39m# ...\u001b[39;00m\n\u001b[1;32m     27\u001b[0m \n\u001b[1;32m     28\u001b[0m \u001b[39m# Close the Selenium driver\u001b[39;00m\n\u001b[1;32m     29\u001b[0m \u001b[39m# driver.quit()\u001b[39;00m\n",
      "File \u001b[0;32m/Library/Frameworks/Python.framework/Versions/3.10/lib/python3.10/site-packages/selenium/webdriver/remote/webdriver.py:831\u001b[0m, in \u001b[0;36mWebDriver.find_element\u001b[0;34m(self, by, value)\u001b[0m\n\u001b[1;32m    828\u001b[0m     by \u001b[39m=\u001b[39m By\u001b[39m.\u001b[39mCSS_SELECTOR\n\u001b[1;32m    829\u001b[0m     value \u001b[39m=\u001b[39m \u001b[39mf\u001b[39m\u001b[39m'\u001b[39m\u001b[39m[name=\u001b[39m\u001b[39m\"\u001b[39m\u001b[39m{\u001b[39;00mvalue\u001b[39m}\u001b[39;00m\u001b[39m\"\u001b[39m\u001b[39m]\u001b[39m\u001b[39m'\u001b[39m\n\u001b[0;32m--> 831\u001b[0m \u001b[39mreturn\u001b[39;00m \u001b[39mself\u001b[39;49m\u001b[39m.\u001b[39;49mexecute(Command\u001b[39m.\u001b[39;49mFIND_ELEMENT, {\u001b[39m\"\u001b[39;49m\u001b[39musing\u001b[39;49m\u001b[39m\"\u001b[39;49m: by, \u001b[39m\"\u001b[39;49m\u001b[39mvalue\u001b[39;49m\u001b[39m\"\u001b[39;49m: value})[\u001b[39m\"\u001b[39m\u001b[39mvalue\u001b[39m\u001b[39m\"\u001b[39m]\n",
      "File \u001b[0;32m/Library/Frameworks/Python.framework/Versions/3.10/lib/python3.10/site-packages/selenium/webdriver/remote/webdriver.py:440\u001b[0m, in \u001b[0;36mWebDriver.execute\u001b[0;34m(self, driver_command, params)\u001b[0m\n\u001b[1;32m    438\u001b[0m response \u001b[39m=\u001b[39m \u001b[39mself\u001b[39m\u001b[39m.\u001b[39mcommand_executor\u001b[39m.\u001b[39mexecute(driver_command, params)\n\u001b[1;32m    439\u001b[0m \u001b[39mif\u001b[39;00m response:\n\u001b[0;32m--> 440\u001b[0m     \u001b[39mself\u001b[39;49m\u001b[39m.\u001b[39;49merror_handler\u001b[39m.\u001b[39;49mcheck_response(response)\n\u001b[1;32m    441\u001b[0m     response[\u001b[39m\"\u001b[39m\u001b[39mvalue\u001b[39m\u001b[39m\"\u001b[39m] \u001b[39m=\u001b[39m \u001b[39mself\u001b[39m\u001b[39m.\u001b[39m_unwrap_value(response\u001b[39m.\u001b[39mget(\u001b[39m\"\u001b[39m\u001b[39mvalue\u001b[39m\u001b[39m\"\u001b[39m, \u001b[39mNone\u001b[39;00m))\n\u001b[1;32m    442\u001b[0m     \u001b[39mreturn\u001b[39;00m response\n",
      "File \u001b[0;32m/Library/Frameworks/Python.framework/Versions/3.10/lib/python3.10/site-packages/selenium/webdriver/remote/errorhandler.py:245\u001b[0m, in \u001b[0;36mErrorHandler.check_response\u001b[0;34m(self, response)\u001b[0m\n\u001b[1;32m    243\u001b[0m         alert_text \u001b[39m=\u001b[39m value[\u001b[39m\"\u001b[39m\u001b[39malert\u001b[39m\u001b[39m\"\u001b[39m]\u001b[39m.\u001b[39mget(\u001b[39m\"\u001b[39m\u001b[39mtext\u001b[39m\u001b[39m\"\u001b[39m)\n\u001b[1;32m    244\u001b[0m     \u001b[39mraise\u001b[39;00m exception_class(message, screen, stacktrace, alert_text)  \u001b[39m# type: ignore[call-arg]  # mypy is not smart enough here\u001b[39;00m\n\u001b[0;32m--> 245\u001b[0m \u001b[39mraise\u001b[39;00m exception_class(message, screen, stacktrace)\n",
      "\u001b[0;31mInvalidSelectorException\u001b[0m: Message: invalid selector: Unable to locate an element with the xpath expression //div[@id='root']//[@class='search'] because of the following error:\nSyntaxError: Failed to execute 'evaluate' on 'Document': The string '//div[@id='root']//[@class='search']' is not a valid XPath expression.\n  (Session info: chrome=112.0.5615.137)\nStacktrace:\n0   chromedriver                        0x0000000100ef5670 chromedriver + 4298352\n1   chromedriver                        0x0000000100eedbbc chromedriver + 4266940\n2   chromedriver                        0x0000000100b20758 chromedriver + 280408\n3   chromedriver                        0x0000000100b240c8 chromedriver + 295112\n4   chromedriver                        0x0000000100b23d74 chromedriver + 294260\n5   chromedriver                        0x0000000100b24170 chromedriver + 295280\n6   chromedriver                        0x0000000100b5b81c chromedriver + 522268\n7   chromedriver                        0x0000000100b94080 chromedriver + 753792\n8   chromedriver                        0x0000000100b4e2d0 chromedriver + 467664\n9   chromedriver                        0x0000000100b4f354 chromedriver + 471892\n10  chromedriver                        0x0000000100eb56c4 chromedriver + 4036292\n11  chromedriver                        0x0000000100eb9c64 chromedriver + 4054116\n12  chromedriver                        0x0000000100ec02d8 chromedriver + 4080344\n13  chromedriver                        0x0000000100eba970 chromedriver + 4057456\n14  chromedriver                        0x0000000100e918dc chromedriver + 3889372\n15  chromedriver                        0x0000000100ed925c chromedriver + 4182620\n16  chromedriver                        0x0000000100ed93b4 chromedriver + 4182964\n17  chromedriver                        0x0000000100ee80f4 chromedriver + 4243700\n18  libsystem_pthread.dylib             0x0000000193db3fa8 _pthread_start + 148\n19  libsystem_pthread.dylib             0x0000000193daeda0 thread_start + 8\n"
     ]
    }
   ],
   "source": [
    "from selenium import webdriver\n",
    "from selenium.webdriver.common.keys import Keys\n",
    "from selenium.webdriver.common.by import By\n",
    "\n",
    "# Set up the Selenium driver\n",
    "driver = webdriver.Chrome()\n",
    "\n",
    "# Navigate to the login page\n",
    "driver.get(\"https://www.stg-lanstad.com/\")\n",
    "\n",
    "# Find the username and password input fields\n",
    "username_input = driver.find_element(By.ID, \"username\")\n",
    "password_input = driver.find_element(By.ID, \"password\")\n",
    "\n",
    "# Enter your login credentials\n",
    "username_input.send_keys(\"techsupport@deantaglobal.com\")\n",
    "password_input.send_keys(\"123456\")\n",
    "\n",
    "# Submit the login form\n",
    "password_input.send_keys(Keys.RETURN)\n",
    "\n",
    "search = driver.find_element(By.XPATH, \"//div[@id='root']//[@class='search']\")\n",
    "search.send_keys(\"AI-NAPH\")\n",
    "\n",
    "# Interact with the dashboard or perform any necessary automated tests\n",
    "# ...\n",
    "\n",
    "# Close the Selenium driver\n",
    "# driver.quit()\n"
   ]
  }
 ],
 "metadata": {
  "kernelspec": {
   "display_name": "Python 3",
   "language": "python",
   "name": "python3"
  },
  "language_info": {
   "codemirror_mode": {
    "name": "ipython",
    "version": 3
   },
   "file_extension": ".py",
   "mimetype": "text/x-python",
   "name": "python",
   "nbconvert_exporter": "python",
   "pygments_lexer": "ipython3",
   "version": "3.10.7"
  },
  "orig_nbformat": 4
 },
 "nbformat": 4,
 "nbformat_minor": 2
}
