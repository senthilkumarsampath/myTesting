{
 "cells": [
  {
   "cell_type": "code",
   "execution_count": 1,
   "metadata": {},
   "outputs": [],
   "source": [
    "import logging\n",
    "try:\n",
    "    with open('/Users/senthil/Desktop/Senthil/myTesting/test.xml', 'r') as file:\n",
    "        logging.basicConfig(filename='test_conversion.log', format='%(asctime)s %(message)s', encoding='utf-8', level=logging.DEBUG)\n",
    "        xml_file = file.read()\n",
    "        logging.info(\"file read!!!\")\n",
    "        xml_file = xml_file.replace('<w:body>', '<w:body><w:p><w:r><w:t>senthil</w:t></w:r></w:p>')\n",
    "        logging.info(\"body replacement done!\")\n",
    "    with open('/Users/senthil/Desktop/Senthil/myTesting/test.xml', 'w') as file:\n",
    "        file.write(xml_file)    \n",
    "        logging.info(\"file saved\")    \n",
    "except OSError:\n",
    "    print(\"invalid path!\")\n",
    "    logging.error(\"Invalid File Path!!!\")\n",
    "    # pass"
   ]
  }
 ],
 "metadata": {
  "kernelspec": {
   "display_name": "Python 3.10.7 64-bit",
   "language": "python",
   "name": "python3"
  },
  "language_info": {
   "codemirror_mode": {
    "name": "ipython",
    "version": 3
   },
   "file_extension": ".py",
   "mimetype": "text/x-python",
   "name": "python",
   "nbconvert_exporter": "python",
   "pygments_lexer": "ipython3",
   "version": "3.10.7"
  },
  "orig_nbformat": 4,
  "vscode": {
   "interpreter": {
    "hash": "aee8b7b246df8f9039afb4144a1f6fd8d2ca17a180786b69acc140d282b71a49"
   }
  }
 },
 "nbformat": 4,
 "nbformat_minor": 2
}
