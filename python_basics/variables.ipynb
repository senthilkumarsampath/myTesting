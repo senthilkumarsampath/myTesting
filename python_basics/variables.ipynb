{
 "cells": [
  {
   "cell_type": "code",
   "execution_count": 5,
   "metadata": {},
   "outputs": [
    {
     "data": {
      "text/plain": [
       "4338945648"
      ]
     },
     "execution_count": 5,
     "metadata": {},
     "output_type": "execute_result"
    }
   ],
   "source": [
    "test  = \"test\"\n",
    "id(test)"
   ]
  },
  {
   "cell_type": "code",
   "execution_count": 9,
   "metadata": {},
   "outputs": [
    {
     "data": {
      "text/plain": [
       "4335011888"
      ]
     },
     "execution_count": 9,
     "metadata": {},
     "output_type": "execute_result"
    }
   ],
   "source": [
    "test2=test\n",
    "id(test2)\n",
    "test=\"ArithmeticError\"\n",
    "id(test)"
   ]
  },
  {
   "cell_type": "code",
   "execution_count": 7,
   "metadata": {},
   "outputs": [
    {
     "data": {
      "text/plain": [
       "12.0"
      ]
     },
     "execution_count": 7,
     "metadata": {},
     "output_type": "execute_result"
    }
   ],
   "source": [
    "pi=22/7\n",
    "\n",
    "principal_amount=100\n",
    "rate_of_interest=3\n",
    "time=4\n",
    "\n",
    "simple_interest=principal_amount*rate_of_interest*time/100\n",
    "\n",
    "simple_interest\n"
   ]
  },
  {
   "cell_type": "code",
   "execution_count": 53,
   "metadata": {},
   "outputs": [
    {
     "name": "stdout",
     "output_type": "stream",
     "text": [
      "Senthil KumAr\n"
     ]
    },
    {
     "data": {
      "text/plain": [
       "'r'"
      ]
     },
     "execution_count": 53,
     "metadata": {},
     "output_type": "execute_result"
    }
   ],
   "source": [
    "first_name=\"Senthil\"\n",
    "last_name=\"KumAr\"\n",
    "full_name=f\"{first_name} {last_name}\"\n",
    "print(full_name)\n",
    "full_name[-1]"
   ]
  },
  {
   "cell_type": "code",
   "execution_count": 108,
   "metadata": {},
   "outputs": [
    {
     "name": "stdout",
     "output_type": "stream",
     "text": [
      "this is even number\n"
     ]
    }
   ],
   "source": [
    "a = int(input(\"enter your lucky number\"))\n",
    "\n",
    "message = \"this is even number\" if a % 2 ==0 else \"this is even number\"\n",
    "\n",
    "print(message)"
   ]
  },
  {
   "cell_type": "code",
   "execution_count": 84,
   "metadata": {},
   "outputs": [
    {
     "name": "stdout",
     "output_type": "stream",
     "text": [
      "senthil's total mark 900\n"
     ]
    }
   ],
   "source": [
    "sris_mark = [10,20,30,40,50,60,70,80,90,100,200,300,400,450,500,600,700,800]\n",
    "\n",
    "senthil_mark = [10,20,30,40,50,65,70,80,90,100,200,300,400,450]\n",
    "\n",
    "def find_total(marks):\n",
    "    total = 0\n",
    "    for mark in marks:\n",
    "        total+=mark\n",
    "    return total\n",
    "\n",
    "print(f\"senthil's total mark \"+str(find_total(sris_mark)))\n"
   ]
  },
  {
   "cell_type": "code",
   "execution_count": 83,
   "metadata": {},
   "outputs": [
    {
     "name": "stdout",
     "output_type": "stream",
     "text": [
      "CodeBasics. from Python learning am I\n"
     ]
    }
   ],
   "source": [
    "my_sentence=\"I am learning Python from CodeBasics.\"\n",
    "\n",
    "def reversed_sentence(sentences):\n",
    "    word_list=[]\n",
    "    for sentence in sentences.split(\" \"):\n",
    "        word_list.append(sentence)\n",
    "    \n",
    "    word_list.reverse()\n",
    "    new_list=\" \".join(word_list)\n",
    "    return new_list\n",
    "\n",
    "rev_list=reversed_sentence(my_sentence)\n",
    "\n",
    "\n",
    "print(rev_list)\n"
   ]
  },
  {
   "cell_type": "code",
   "execution_count": 23,
   "metadata": {},
   "outputs": [
    {
     "data": {
      "text/plain": [
       "[('senthil', 7), ('kumar', 5), ('ram', 3), ('rajkamal', 8), ('kannan', 6)]"
      ]
     },
     "execution_count": 23,
     "metadata": {},
     "output_type": "execute_result"
    }
   ],
   "source": [
    "friend_list = \"senthil\",\"kumar\",\"ram\", \"rajkamal\", \"kannan\"\n",
    "\n",
    "def tuple_example(friend_list):\n",
    "    new_list=[]\n",
    "    for friend in friend_list:\n",
    "        new_friend_list = (friend, len(friend))\n",
    "        new_list.append(new_friend_list)\n",
    "    return new_list\n",
    "\n",
    "new_list = tuple_example(friend_list)\n",
    "\n",
    "new_list\n"
   ]
  },
  {
   "cell_type": "code",
   "execution_count": 62,
   "metadata": {},
   "outputs": [],
   "source": [
    "f = open(\"/Users/senthil/Desktop/Senthil/myTesting/python_basics/student_marks.csv\", \"r\")"
   ]
  },
  {
   "cell_type": "code",
   "execution_count": 90,
   "metadata": {},
   "outputs": [
    {
     "data": {
      "text/plain": [
       "'Gender,DOB,Maths,Physics,Chemistry,English,Biology,Economics,History,Civics\\n'"
      ]
     },
     "execution_count": 90,
     "metadata": {},
     "output_type": "execute_result"
    }
   ],
   "source": [
    "f.read()\n",
    "\n",
    "f.seek(0)\n",
    "keys = f.readline()\n",
    "keys"
   ]
  },
  {
   "cell_type": "code",
   "execution_count": 91,
   "metadata": {},
   "outputs": [
    {
     "data": {
      "text/plain": [
       "['Gender',\n",
       " 'DOB',\n",
       " 'Maths',\n",
       " 'Physics',\n",
       " 'Chemistry',\n",
       " 'English',\n",
       " 'Biology',\n",
       " 'Economics',\n",
       " 'History',\n",
       " 'Civics']"
      ]
     },
     "execution_count": 91,
     "metadata": {},
     "output_type": "execute_result"
    }
   ],
   "source": [
    "keys = keys.split(\",\")\n",
    "keys[-1] = keys[-1][:-1]\n",
    "keys"
   ]
  }
 ],
 "metadata": {
  "kernelspec": {
   "display_name": "Python 3",
   "language": "python",
   "name": "python3"
  },
  "language_info": {
   "codemirror_mode": {
    "name": "ipython",
    "version": 3
   },
   "file_extension": ".py",
   "mimetype": "text/x-python",
   "name": "python",
   "nbconvert_exporter": "python",
   "pygments_lexer": "ipython3",
   "version": "3.10.7"
  },
  "orig_nbformat": 4
 },
 "nbformat": 4,
 "nbformat_minor": 2
}
