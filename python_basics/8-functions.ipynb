{
  "cells": [
    {
      "cell_type": "markdown",
      "metadata": {
        "id": "yoyotujl69UP"
      },
      "source": [
        "# 8 Functions\n",
        "\n",
        "Excercise Solution"
      ]
    },
    {
      "cell_type": "markdown",
      "metadata": {
        "id": "rQvL5Nm47FLO"
      },
      "source": [
        "### 1. Write a python function to check if any given number is prime number and odd number?"
      ]
    },
    {
      "cell_type": "code",
      "execution_count": null,
      "metadata": {
        "id": "2KCF_V_w62IP"
      },
      "outputs": [],
      "source": [
        "# creating the function\n",
        "\n",
        "def prime_and_odd(num):\n",
        "    \n",
        "    # checking for even numbers\n",
        "    if num%2 == 0:\n",
        "        return False\n",
        "\n",
        "    if num < 2:\n",
        "        return False\n",
        "\n",
        "    # checking for prime numbers\n",
        "    for i in range(2, num//2):\n",
        "        if num%i ==0:\n",
        "            return False\n",
        "    \n",
        "    return True"
      ]
    },
    {
      "cell_type": "code",
      "execution_count": null,
      "metadata": {
        "colab": {
          "base_uri": "https://localhost:8080/"
        },
        "id": "9RHhmzFh77z-",
        "outputId": "e504203f-fb4c-4c14-e6c7-8c998daa0b8c"
      },
      "outputs": [
        {
          "data": {
            "text/plain": [
              "False"
            ]
          },
          "execution_count": 4,
          "metadata": {},
          "output_type": "execute_result"
        }
      ],
      "source": [
        "# calling the function\n",
        "prime_and_odd(1)"
      ]
    },
    {
      "cell_type": "code",
      "execution_count": null,
      "metadata": {
        "colab": {
          "base_uri": "https://localhost:8080/"
        },
        "id": "8Eu_Xiqe8DWV",
        "outputId": "da24418b-b496-4ea6-d75d-aac6188e21d6"
      },
      "outputs": [
        {
          "data": {
            "text/plain": [
              "False"
            ]
          },
          "execution_count": 5,
          "metadata": {},
          "output_type": "execute_result"
        }
      ],
      "source": [
        "prime_and_odd(2)"
      ]
    },
    {
      "cell_type": "code",
      "execution_count": null,
      "metadata": {
        "colab": {
          "base_uri": "https://localhost:8080/"
        },
        "id": "FAj_NTLO82YK",
        "outputId": "a10dd02b-8c4a-49ce-87f3-e0f36c380638"
      },
      "outputs": [
        {
          "data": {
            "text/plain": [
              "False"
            ]
          },
          "execution_count": 6,
          "metadata": {},
          "output_type": "execute_result"
        }
      ],
      "source": [
        "prime_and_odd(45)"
      ]
    },
    {
      "cell_type": "code",
      "execution_count": null,
      "metadata": {
        "colab": {
          "base_uri": "https://localhost:8080/"
        },
        "id": "D4I5aNaP85RI",
        "outputId": "51a47d58-c6e2-46e8-f51b-56f1a5534f12"
      },
      "outputs": [
        {
          "name": "stdout",
          "output_type": "stream",
          "text": [
            "1 False\n",
            "2 False\n",
            "3 True\n",
            "4 False\n",
            "5 True\n",
            "6 False\n",
            "7 True\n",
            "8 False\n",
            "9 False\n",
            "10 False\n"
          ]
        }
      ],
      "source": [
        "# checking first 10 numbers\n",
        "for i in range(1, 11):\n",
        "    print(i, prime_and_odd(i))"
      ]
    },
    {
      "cell_type": "markdown",
      "metadata": {
        "id": "5VDf0umw9PVu"
      },
      "source": [
        "### 2. Write a python function which will take n as input and print the pattern of n rows. If the n is even, then print it flipped.\n",
        "\n",
        "Example: n=3\n",
        "        \n",
        "        *\n",
        "        * *\n",
        "        * * *\n",
        "\n",
        "n=4\n",
        "\n",
        "        * * * *\n",
        "        * * *\n",
        "        * *\n",
        "        *"
      ]
    },
    {
      "cell_type": "code",
      "execution_count": null,
      "metadata": {
        "id": "iWD0ZKIH9p_M"
      },
      "outputs": [],
      "source": [
        "# creating function for checking even/ odd\n",
        "def is_even(num):\n",
        "    if num%2 == 0:\n",
        "        return True\n",
        "    else:\n",
        "        return False"
      ]
    },
    {
      "cell_type": "code",
      "execution_count": null,
      "metadata": {
        "id": "4oCkNONv9JWI"
      },
      "outputs": [],
      "source": [
        "def print_awesome_pattern(n):\n",
        "    if is_even(n):\n",
        "\n",
        "        for i in range(n, 0, -1):\n",
        "            for j in range(i):\n",
        "                print(\"*\", end=\" \")\n",
        "            print()\n",
        "\n",
        "    else:\n",
        "        for i in range(n+1):\n",
        "            for j in range(i):\n",
        "                print(\"*\", end=\" \")\n",
        "            print()\n",
        "            \n"
      ]
    },
    {
      "cell_type": "code",
      "execution_count": null,
      "metadata": {
        "colab": {
          "base_uri": "https://localhost:8080/"
        },
        "id": "Xxep2Sqr-ZN9",
        "outputId": "248e9413-ae97-4f6c-af85-2eaa6e238eca"
      },
      "outputs": [
        {
          "name": "stdout",
          "output_type": "stream",
          "text": [
            "\n",
            "* \n",
            "* * \n",
            "* * * \n"
          ]
        }
      ],
      "source": [
        "print_awesome_pattern(3)"
      ]
    },
    {
      "cell_type": "code",
      "execution_count": null,
      "metadata": {
        "colab": {
          "base_uri": "https://localhost:8080/"
        },
        "id": "x71kA9J0-c9M",
        "outputId": "afefac26-ddd6-4643-f736-3d45526b41c9"
      },
      "outputs": [
        {
          "name": "stdout",
          "output_type": "stream",
          "text": [
            "* * * * \n",
            "* * * \n",
            "* * \n",
            "* \n"
          ]
        }
      ],
      "source": [
        "print_awesome_pattern(4)"
      ]
    },
    {
      "cell_type": "code",
      "execution_count": null,
      "metadata": {
        "colab": {
          "base_uri": "https://localhost:8080/"
        },
        "id": "xWDSA6c1-8yI",
        "outputId": "95d29888-ac07-4af2-ae16-299471c086b0"
      },
      "outputs": [
        {
          "name": "stdout",
          "output_type": "stream",
          "text": [
            "\n",
            "* \n",
            "* * \n",
            "* * * \n",
            "* * * * \n",
            "* * * * * \n",
            "* * * * * * \n",
            "* * * * * * * \n"
          ]
        }
      ],
      "source": [
        "print_awesome_pattern(7)"
      ]
    },
    {
      "cell_type": "markdown",
      "metadata": {
        "id": "ZgDoTYOU_KgH"
      },
      "source": [
        "### 3. Master Yoda speaks a sentence in a different order. Let's say you want to convert a sentence to Yoda’s speak.  Write a function named master_yoda which will take a string as input and return the output after reversing the words of the sentence."
      ]
    },
    {
      "cell_type": "code",
      "execution_count": 1,
      "metadata": {
        "id": "HI6cazF__E9v"
      },
      "outputs": [],
      "source": [
        "def master_yoda(sentance):\n",
        "    # creating list of words\n",
        "    words = []\n",
        "    for word in sentance.split(' '):\n",
        "        words.append(word)\n",
        "    \n",
        "    terminator = \"\"\n",
        "    # If the sentance ends with a dot(.) we need to extract that \n",
        "    if words[-1].endswith('.') or words[-1].endswith('?'):\n",
        "        terminator = words[-1][-1]\n",
        "        words[-1] = words[-1][:-1]\n",
        "\n",
        "    # reversing the words\n",
        "    words.reverse()\n",
        "\n",
        "    # recreating the sentance with reversed words\n",
        "    new_sentance = \" \".join(words)\n",
        "    new_sentance = new_sentance + terminator\n",
        "    return new_sentance\n",
        "\n"
      ]
    },
    {
      "cell_type": "code",
      "execution_count": 2,
      "metadata": {
        "colab": {
          "base_uri": "https://localhost:8080/",
          "height": 35
        },
        "id": "RFA-NlGWA3RB",
        "outputId": "2fff35f7-babc-4d4a-96c2-6831887cca92"
      },
      "outputs": [
        {
          "data": {
            "text/plain": [
              "'Python learning am I.'"
            ]
          },
          "execution_count": 2,
          "metadata": {},
          "output_type": "execute_result"
        }
      ],
      "source": [
        "master_yoda(\"I am learning Python.\")"
      ]
    },
    {
      "cell_type": "code",
      "execution_count": null,
      "metadata": {
        "colab": {
          "base_uri": "https://localhost:8080/",
          "height": 35
        },
        "id": "pdZTe9i9BDr-",
        "outputId": "cd080ba7-9d40-4724-e35f-091f90eef980"
      },
      "outputs": [
        {
          "data": {
            "application/vnd.google.colaboratory.intrinsic+json": {
              "type": "string"
            },
            "text/plain": [
              "'World Hello'"
            ]
          },
          "execution_count": 37,
          "metadata": {},
          "output_type": "execute_result"
        }
      ],
      "source": [
        "master_yoda(sentance=\"Hello World\")"
      ]
    },
    {
      "cell_type": "markdown",
      "metadata": {
        "id": "FTsAnmvuB7FN"
      },
      "source": [
        "### 4. Write a function pay_bill which will take list of expenses, percent commission, and a special offer amount\n",
        "* If you don’t pass percent_comission it should be always 9.8%\n",
        "* The Last argument special_offer_amount is not a required argument, you don’t need to pass is. Make it an optional parameter.\n",
        "* If you want to give a special offer to the user, then you have to pass the third argument special_offer_amount. If user makes the purchase of greater than special_offer_amount, then give him extra  commission of 1.2%.\n",
        "* Calculate the final payable price of the bill and return it from the function.\n"
      ]
    },
    {
      "cell_type": "code",
      "execution_count": null,
      "metadata": {
        "id": "PLFqktuwB02f"
      },
      "outputs": [],
      "source": [
        "def pay_bill(expenses, percent_commission=0.098, offer_amount=None):\n",
        "    \n",
        "    # calculating the total bill amount\n",
        "    total_bill_amount = 0\n",
        "    for amount in  expenses:\n",
        "        total_bill_amount += amount\n",
        "\n",
        "    # calculate extra commision percentage\n",
        "    extra_commission = 0\n",
        "    if offer_amount:\n",
        "        if total_bill_amount >= offer_amount:\n",
        "            extra_commission = 0.012\n",
        "            print(f\"Congratulations! You earned 1.2% extra commission.\")\n",
        "\n",
        "    # Calculate final payable amount\n",
        "    commission_amount = total_bill_amount * (percent_commission + extra_commission)\n",
        "    final_amount = total_bill_amount - commission_amount\n",
        "    return final_amount"
      ]
    },
    {
      "cell_type": "code",
      "execution_count": null,
      "metadata": {
        "colab": {
          "base_uri": "https://localhost:8080/"
        },
        "id": "wRJZbUp7FFP3",
        "outputId": "a09f2207-da32-4a28-8d31-ae3e0e7d21b9"
      },
      "outputs": [
        {
          "data": {
            "text/plain": [
              "1022.8679999999999"
            ]
          },
          "execution_count": 52,
          "metadata": {},
          "output_type": "execute_result"
        }
      ],
      "source": [
        "pay_bill([100, 145, 567, 322])"
      ]
    },
    {
      "cell_type": "code",
      "execution_count": null,
      "metadata": {
        "colab": {
          "base_uri": "https://localhost:8080/"
        },
        "id": "vlv4i8jjFLoO",
        "outputId": "8207df45-9474-490e-ce2d-f196eac8ca9f"
      },
      "outputs": [
        {
          "data": {
            "text/plain": [
              "1043.704"
            ]
          },
          "execution_count": 53,
          "metadata": {},
          "output_type": "execute_result"
        }
      ],
      "source": [
        "pay_bill([100, 145, 565, 322], 0.078)"
      ]
    },
    {
      "cell_type": "code",
      "execution_count": null,
      "metadata": {
        "colab": {
          "base_uri": "https://localhost:8080/"
        },
        "id": "fyHjsChAFwKK",
        "outputId": "07e7ae45-82e4-4e48-fceb-fe53adf75e77"
      },
      "outputs": [
        {
          "name": "stdout",
          "output_type": "stream",
          "text": [
            "Congratulations! You earned 1.2% extra commission.\n"
          ]
        },
        {
          "data": {
            "text/plain": [
              "1334.4279999999999"
            ]
          },
          "execution_count": 54,
          "metadata": {},
          "output_type": "execute_result"
        }
      ],
      "source": [
        "pay_bill([200, 400, 86, 300, 500], 0.09, 800)"
      ]
    },
    {
      "cell_type": "code",
      "execution_count": null,
      "metadata": {
        "colab": {
          "base_uri": "https://localhost:8080/"
        },
        "id": "b94QsQIIF9PY",
        "outputId": "54deb754-5d38-45c6-aa7e-171a22a9e50d"
      },
      "outputs": [
        {
          "name": "stdout",
          "output_type": "stream",
          "text": [
            "Congratulations! You earned 1.2% extra commission.\n"
          ]
        },
        {
          "data": {
            "text/plain": [
              "1322.54"
            ]
          },
          "execution_count": 55,
          "metadata": {},
          "output_type": "execute_result"
        }
      ],
      "source": [
        "pay_bill([200, 400, 86, 300, 500], offer_amount=900)"
      ]
    },
    {
      "cell_type": "code",
      "execution_count": null,
      "metadata": {
        "colab": {
          "base_uri": "https://localhost:8080/"
        },
        "id": "6HnaF2elGE9p",
        "outputId": "8a7b3a25-ceba-41b3-c852-4e50e8673916"
      },
      "outputs": [
        {
          "data": {
            "text/plain": [
              "1337.4"
            ]
          },
          "execution_count": 56,
          "metadata": {},
          "output_type": "execute_result"
        }
      ],
      "source": [
        "pay_bill([200, 400, 86, 300, 500], percent_commission=0.1, offer_amount=1500)"
      ]
    },
    {
      "cell_type": "code",
      "execution_count": null,
      "metadata": {
        "id": "pvN2aAzuGsDM"
      },
      "outputs": [],
      "source": []
    },
    {
      "cell_type": "markdown",
      "metadata": {
        "id": "YSg0KwBrG2NP"
      },
      "source": [
        "Thank You,\n",
        "\n",
        "Happy Coding!"
      ]
    },
    {
      "cell_type": "code",
      "execution_count": null,
      "metadata": {
        "id": "tfoDOAfKG5BK"
      },
      "outputs": [],
      "source": []
    }
  ],
  "metadata": {
    "colab": {
      "collapsed_sections": [],
      "name": "8_functions.ipynb",
      "provenance": []
    },
    "kernelspec": {
      "display_name": "Python 3",
      "name": "python3"
    },
    "language_info": {
      "codemirror_mode": {
        "name": "ipython",
        "version": 3
      },
      "file_extension": ".py",
      "mimetype": "text/x-python",
      "name": "python",
      "nbconvert_exporter": "python",
      "pygments_lexer": "ipython3",
      "version": "3.10.7"
    }
  },
  "nbformat": 4,
  "nbformat_minor": 0
}
