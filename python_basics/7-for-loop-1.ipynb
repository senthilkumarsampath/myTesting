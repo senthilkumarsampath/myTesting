{
  "cells": [
    {
      "cell_type": "markdown",
      "metadata": {
        "id": "-xmQaMgJH9De"
      },
      "source": [
        "# 7 For Loops\n",
        "\n",
        "Solutions"
      ]
    },
    {
      "cell_type": "markdown",
      "metadata": {
        "id": "SfunnaR8IG-c"
      },
      "source": [
        "1. Write a Python program to print the following pattern.\n",
        "\n",
        "        1 2 3 4 5\n",
        "        1 2 3 4 \n",
        "        1 2 3\n",
        "        1 2\n",
        "        1\n"
      ]
    },
    {
      "cell_type": "markdown",
      "metadata": {
        "id": "BLEhN79pIZa0"
      },
      "source": [
        "To print the pattern first count the rows\n",
        "\n",
        "There are 5 rows store it in a variable."
      ]
    },
    {
      "cell_type": "code",
      "execution_count": 3,
      "metadata": {
        "id": "fkjEwb3jH5Jv"
      },
      "outputs": [],
      "source": [
        "n = 6"
      ]
    },
    {
      "cell_type": "markdown",
      "metadata": {
        "id": "f0Y_a82qIlm2"
      },
      "source": [
        "use two for loops to print the pattern\n",
        "\n",
        "One for loop for printing rows\\\n",
        "Another for printing numbers in columns"
      ]
    },
    {
      "cell_type": "code",
      "execution_count": 8,
      "metadata": {
        "colab": {
          "base_uri": "https://localhost:8080/"
        },
        "id": "HDvkL79HIjX0",
        "outputId": "31233f1e-8e6c-42fb-8831-19eab8203858"
      },
      "outputs": [],
      "source": [
        "# rows\n",
        "for i in range(n,-1):\n",
        "    \n",
        "    # columns\n",
        "    for j in range(i):\n",
        "        print(j, end=\" \")\n",
        "\n",
        "    # print new line after each row\n",
        "    print()"
      ]
    },
    {
      "cell_type": "markdown",
      "metadata": {
        "id": "2UU9vxtGK3H5"
      },
      "source": [
        "2. Write a Python program to find the sum of all the numbers except odd numbers between 1 to 20 using a loop. Can you also do this using a while loop?"
      ]
    },
    {
      "cell_type": "code",
      "execution_count": null,
      "metadata": {
        "id": "YQkb__jpJLm1"
      },
      "outputs": [],
      "source": [
        "# using for loop\n",
        "\n",
        "sum_ = 0\n",
        "for num in range(1, 21):\n",
        "    if num % 2 != 0:\n",
        "        continue\n",
        "    else:\n",
        "        sum_ = sum_ + num \n"
      ]
    },
    {
      "cell_type": "code",
      "execution_count": null,
      "metadata": {
        "colab": {
          "base_uri": "https://localhost:8080/"
        },
        "id": "C7rINZ3iLeZg",
        "outputId": "7009cf95-e052-4829-953a-bb6b023233d3"
      },
      "outputs": [
        {
          "name": "stdout",
          "output_type": "stream",
          "text": [
            "110\n"
          ]
        }
      ],
      "source": [
        "print(sum_)"
      ]
    },
    {
      "cell_type": "code",
      "execution_count": null,
      "metadata": {
        "colab": {
          "base_uri": "https://localhost:8080/"
        },
        "id": "vXVu-J_0LgK9",
        "outputId": "198d5aca-4153-4767-e39c-8a74f332c330"
      },
      "outputs": [
        {
          "name": "stdout",
          "output_type": "stream",
          "text": [
            "110\n"
          ]
        }
      ],
      "source": [
        "# Method 2\n",
        "\n",
        "sum_ = 0\n",
        "for num in range(1,21):\n",
        "    if num%2 ==0:\n",
        "        sum_ = sum_ + num\n",
        "        # sum_ += num\n",
        "\n",
        "print(sum_)"
      ]
    },
    {
      "cell_type": "code",
      "execution_count": null,
      "metadata": {
        "colab": {
          "base_uri": "https://localhost:8080/"
        },
        "id": "5Y7QhgQzLw_H",
        "outputId": "10ffbbf2-40a3-4000-b7ed-b8eb7d757247"
      },
      "outputs": [
        {
          "name": "stdout",
          "output_type": "stream",
          "text": [
            "110\n"
          ]
        }
      ],
      "source": [
        "# Using While loop\n",
        "\n",
        "sum_ = 0\n",
        "num = 1\n",
        "while num <= 20:\n",
        "\n",
        "    if num %2 ==0:\n",
        "        sum_ += num\n",
        "    \n",
        "    num = num + 1\n",
        "\n",
        "print(sum_)\n"
      ]
    },
    {
      "cell_type": "markdown",
      "metadata": {
        "id": "AjtT4pnCMfV8"
      },
      "source": [
        "### 3. After throwing the dice several times, you got this result,\n",
        "\tdice_result  = [5,6,4,2,5,4,4,5,3,3,2,6,1,2,1,1,6,5]\n",
        "\n",
        "Using a for loop find out the followings:\n",
        "\n",
        "+ How many times you got 6s\n",
        "+ How many times you got 1s\n",
        "+ How many times you got 6s two times in row\n"
      ]
    },
    {
      "cell_type": "code",
      "execution_count": null,
      "metadata": {
        "colab": {
          "base_uri": "https://localhost:8080/"
        },
        "id": "y-aeFUPRMIW0",
        "outputId": "22b56f6c-4cdd-47d0-c3d8-f398a1f3185e"
      },
      "outputs": [
        {
          "data": {
            "text/plain": [
              "[5, 6, 4, 2, 5, 4, 4, 5, 3, 3, 2, 6, 1, 2, 1, 1, 6, 5]"
            ]
          },
          "execution_count": 18,
          "metadata": {},
          "output_type": "execute_result"
        }
      ],
      "source": [
        "dice_result  = [5,6,4,2,5,4,4,5,3,3,2,6,1,2,1,1,6,5]\n",
        "dice_result"
      ]
    },
    {
      "cell_type": "markdown",
      "metadata": {
        "id": "yetJ4t2hMrP5"
      },
      "source": [
        "#### Count 6s"
      ]
    },
    {
      "cell_type": "code",
      "execution_count": null,
      "metadata": {
        "colab": {
          "base_uri": "https://localhost:8080/"
        },
        "id": "TvNye-p1Mo79",
        "outputId": "23fba8f7-17d3-45d6-c69a-604675a925b5"
      },
      "outputs": [
        {
          "name": "stdout",
          "output_type": "stream",
          "text": [
            "3\n"
          ]
        }
      ],
      "source": [
        "sixes = 0\n",
        "for n in dice_result:\n",
        "    if n==6:\n",
        "        sixes += 1\n",
        "\n",
        "print(sixes)"
      ]
    },
    {
      "cell_type": "markdown",
      "metadata": {
        "id": "qX4ToRtdM7_J"
      },
      "source": [
        "#### Count 1s"
      ]
    },
    {
      "cell_type": "code",
      "execution_count": null,
      "metadata": {
        "colab": {
          "base_uri": "https://localhost:8080/"
        },
        "id": "M56_sUM_M48p",
        "outputId": "d0aa23a3-b239-4a33-dbe3-d4a0f324379e"
      },
      "outputs": [
        {
          "name": "stdout",
          "output_type": "stream",
          "text": [
            "3\n"
          ]
        }
      ],
      "source": [
        "ones = 0\n",
        "for n in dice_result:\n",
        "    if n==1:\n",
        "        ones += 1\n",
        "\n",
        "print(ones)"
      ]
    },
    {
      "cell_type": "markdown",
      "metadata": {
        "id": "lIhGWUm5NK2m"
      },
      "source": [
        "#### Counting 2 sixes in a row"
      ]
    },
    {
      "cell_type": "code",
      "execution_count": null,
      "metadata": {
        "colab": {
          "base_uri": "https://localhost:8080/"
        },
        "id": "d6A1ugexNHoH",
        "outputId": "d5c908bb-daf8-4d4b-8d66-f6f53d4a3814"
      },
      "outputs": [
        {
          "name": "stdout",
          "output_type": "stream",
          "text": [
            "0\n"
          ]
        }
      ],
      "source": [
        "two_6s = 0\n",
        "l = len(dice_result)\n",
        "\n",
        "for i in range(l - 1):\n",
        "    if dice_result[i] == 6 and dice_result[i+1] == 6:\n",
        "        two_6s += 1\n",
        "\n",
        "print(two_6s)\n",
        "    "
      ]
    },
    {
      "cell_type": "markdown",
      "metadata": {
        "id": "xLtJNVUdxH-N"
      },
      "source": [
        "4. Let's say you are doing push-ups and you have to complete 50 push-ups daily, write a program that,\\\n",
        "  i. Upon completing 10 push-ups in a go, asks you, “Are you tired?”\\\n",
        "  ii. If you reply “yes” or “y” then it should break and print “You did total     <total_pushups> push-ups.”\\\n",
        "  iii. For example: If you did only 30  push-ups and answered “yes” to your program. It will break the loop and print “You did total 30 push-ups”\n",
        "\n",
        "  iv. If you reply “no” or “n” then it should continue and display how many push-ups are remaining  now after that ask you again “Are you tired?”\n",
        "For Example: if you answered “no” then it should display that 20 push-ups are remaining and ask you again “Are you tired?”\n",
        "\n",
        "  v. If you complete all 50 push-ups, then it should print the “Congratulations! You made it” and stopped the program.\n"
      ]
    },
    {
      "cell_type": "code",
      "execution_count": 1,
      "metadata": {
        "colab": {
          "base_uri": "https://localhost:8080/"
        },
        "id": "2U2XPKwUN3__",
        "outputId": "94061e88-496a-4887-eb2a-8e12305d13d1"
      },
      "outputs": [
        {
          "name": "stdout",
          "output_type": "stream",
          "text": [
            "Doing push up.\n",
            "Doing push up.\n",
            "Doing push up.\n",
            "Doing push up.\n",
            "Doing push up.\n",
            "Doing push up.\n",
            "Doing push up.\n",
            "Doing push up.\n",
            "Doing push up.\n",
            "Doing push up.\n",
            "40 push-ups are remaining today.\n",
            "Doing push up.\n",
            "Doing push up.\n",
            "Doing push up.\n",
            "Doing push up.\n",
            "Doing push up.\n",
            "Doing push up.\n",
            "Doing push up.\n",
            "Doing push up.\n",
            "Doing push up.\n",
            "Doing push up.\n",
            "30 push-ups are remaining today.\n",
            "Doing push up.\n",
            "Doing push up.\n",
            "Doing push up.\n",
            "Doing push up.\n",
            "Doing push up.\n",
            "Doing push up.\n",
            "Doing push up.\n",
            "Doing push up.\n",
            "Doing push up.\n",
            "Doing push up.\n",
            "You did total 30 Push-ups today.\n"
          ]
        }
      ],
      "source": [
        "pushups = 0\n",
        "answer = \"\"\n",
        "while True:\n",
        "    print(\"Doing push up.\")\n",
        "    pushups += 1\n",
        "    if pushups == 50:\n",
        "        print(\"Congratulations! You made it\")\n",
        "        break\n",
        "\n",
        "    elif pushups%10 ==0:\n",
        "        answer = input(\"Are you tired? (yes/no)\")\n",
        "        if answer[0].lower() == 'y':\n",
        "            break\n",
        "        else:\n",
        "            print(f\"{50-pushups} push-ups are remaining today.\")\n",
        "\n",
        "\n",
        "\n",
        "print(f\"You did total {pushups} Push-ups today.\")\n",
        "\n",
        "        "
      ]
    },
    {
      "cell_type": "markdown",
      "metadata": {
        "id": "ZB5bJCFt0PV1"
      },
      "source": [
        "Try with different answers to get different outputs.\n",
        "\n",
        "\n",
        "Thank you,\n",
        "Happy Coding!!"
      ]
    },
    {
      "cell_type": "code",
      "execution_count": null,
      "metadata": {
        "id": "kNYlf7IlzTsB"
      },
      "outputs": [],
      "source": []
    }
  ],
  "metadata": {
    "colab": {
      "collapsed_sections": [],
      "name": "7_for_loop.ipynb",
      "provenance": []
    },
    "kernelspec": {
      "display_name": "Python 3",
      "name": "python3"
    },
    "language_info": {
      "codemirror_mode": {
        "name": "ipython",
        "version": 3
      },
      "file_extension": ".py",
      "mimetype": "text/x-python",
      "name": "python",
      "nbconvert_exporter": "python",
      "pygments_lexer": "ipython3",
      "version": "3.10.7"
    }
  },
  "nbformat": 4,
  "nbformat_minor": 0
}
