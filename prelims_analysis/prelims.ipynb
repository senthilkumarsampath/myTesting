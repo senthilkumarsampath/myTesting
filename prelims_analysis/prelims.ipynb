{
 "cells": [
  {
   "cell_type": "code",
   "execution_count": 11,
   "metadata": {},
   "outputs": [
    {
     "name": "stdout",
     "output_type": "stream",
     "text": [
      "Index(['ParaID', 'ParaObjectType', 'ParaCleanedContent', 'ParaContent',\n",
      "       'ParaContentTabStart', 'ParaFontFamily', 'ParaBold', 'ParaItalic',\n",
      "       'ParaFontSize', 'ParaStyle', 'ParaListStyle', 'ParaLeftIndent',\n",
      "       'ParaRightIndent', 'ParaFirstLineIndent', 'ParaAlignment',\n",
      "       'ParaLineSpace', 'ParaAboveSpace', 'ParaBelowSpace', 'ParaBorderTopVal',\n",
      "       'ParaBorderTopSz', 'ParaBorderTopSpace', 'ParaBorderTopColor',\n",
      "       'ParaBorderLeftVal', 'ParaBorderLeftSz', 'ParaBorderLeftSpace',\n",
      "       'ParaBorderLeftColor', 'ParaBorderBottomVal', 'ParaBorderBottomSz',\n",
      "       'ParaBorderBottomSpace', 'ParaBorderBottomColor', 'ParaBorderRightVal',\n",
      "       'ParaBorderRightSz', 'ParaBorderRightSpace', 'ParaBorderRightColor',\n",
      "       'ParaBorderBetweenVal', 'ParaBorderBetweenSz', 'ParaBorderBetweenSpace',\n",
      "       'ParaBorderBetweenColor', 'ParaShadingVal', 'ParaShadingColor',\n",
      "       'ParaShadingFill', 'ParaSingleStrike', 'ParaDoubleStrike',\n",
      "       'ParaUnderline', 'ParaSmallCaps', 'file_name', 'TagName'],\n",
      "      dtype='object')\n"
     ]
    },
    {
     "name": "stderr",
     "output_type": "stream",
     "text": [
      "/var/folders/29/tqd3lhrd59x1bdpw9drsy6c00000gp/T/ipykernel_1362/1848135605.py:7: DtypeWarning: Columns (18,21,22,25,26,29,30,33,34,37,43,44) have mixed types. Specify dtype option on import or set low_memory=False.\n",
      "  data = pd.read_csv('/Users/senthil/Desktop/Senthil/myTesting/prelims_analysis/PRELIMS_data_files.csv')\n"
     ]
    }
   ],
   "source": [
    "import pandas as pd\n",
    "import numpy as np\n",
    "import matplotlib.pyplot as plt\n",
    "from scipy import stats\n",
    "\n",
    "\n",
    "data = pd.read_csv('/Users/senthil/Desktop/Senthil/myTesting/prelims_analysis/PRELIMS_data_files.csv')\n",
    "# Show the first few rows of the dataframe\n",
    "# print(data.head())\n",
    "\n",
    "# Show the shape of the dataframe (number of rows and columns)\n",
    "# print(data.shape)\n",
    "\n",
    "# Show the column names\n",
    "print(data.columns)\n",
    "\n",
    "# Show summary statistics of the numeric columns\n",
    "# print(data.describe())\n"
   ]
  },
  {
   "cell_type": "code",
   "execution_count": null,
   "metadata": {},
   "outputs": [],
   "source": [
    "# Check for missing values\n",
    "print(data.isnull().sum())\n",
    "\n",
    "# Remove rows with missing values\n",
    "data.dropna(inplace=True)\n",
    "\n",
    "# Remove outliers using z-score\n",
    "data = data[(np.abs(stats.zscore(data)) < 3).all(axis=1)]\n"
   ]
  },
  {
   "cell_type": "code",
   "execution_count": null,
   "metadata": {},
   "outputs": [],
   "source": [
    "# Histogram of a column\n",
    "plt.hist(data['column_name'], bins=10)\n",
    "\n",
    "# Scatter plot of two columns\n",
    "plt.scatter(data['column_name1'], data['column_name2'])\n",
    "\n",
    "# Boxplot of a column\n",
    "plt.boxplot(data['column_name'])\n"
   ]
  },
  {
   "cell_type": "code",
   "execution_count": null,
   "metadata": {},
   "outputs": [],
   "source": [
    "import pandas as pd\n",
    "\n",
    "# Load the dataset from the CSV file\n",
    "data = pd.read_csv('/Users/senthil/Desktop/Senthil/myTesting/prelims_analysis/PRELIMS_data_files.csv')\n",
    "\n",
    "# Group the data by the TagName column and count the number of paragraphs in each group\n",
    "tag_counts = data.groupby('TagName')['ParaID'].count()\n",
    "\n",
    "# Print the tag counts\n",
    "print(tag_counts)\n"
   ]
  },
  {
   "cell_type": "code",
   "execution_count": 13,
   "metadata": {},
   "outputs": [
    {
     "name": "stdout",
     "output_type": "stream",
     "text": [
      "   ParaID ParaObjectType                                 ParaCleanedContent  \\\n",
      "0       1      paragraph                        Acute Religious Experiences   \n",
      "1       2      paragraph           Bloomsbury Advances in Religious Studies   \n",
      "2       3      paragraph  Series Editors: Bettina E. Schmidt, Steven Sut...   \n",
      "3       4      paragraph       Founding Editors: James Cox and Peggy Morgan   \n",
      "4       5      paragraph  Bloomsbury Advances in Religious Studies publi...   \n",
      "\n",
      "                                         ParaContent  ParaContentTabStart  \\\n",
      "0                        Acute Religious Experiences                    0   \n",
      "1           Bloomsbury Advances in Religious Studies                    0   \n",
      "2  Series Editors: Bettina E. Schmidt, Steven Sut...                    0   \n",
      "3       Founding Editors: James Cox and Peggy Morgan                    0   \n",
      "4  Bloomsbury Advances in Religious Studies publi...                    0   \n",
      "\n",
      "    ParaFontFamily  ParaBold  ParaItalic  ParaFontSize ParaStyle  ...  \\\n",
      "0  Times New Roman     False       False          24.0    Normal  ...   \n",
      "1         Garamond     False       False          12.0    Normal  ...   \n",
      "2         Garamond     False       False          12.0    Normal  ...   \n",
      "3         Garamond     False       False          12.0    Normal  ...   \n",
      "4         Garamond     False       False          12.0    Normal  ...   \n",
      "\n",
      "  ParaShadingVal  ParaShadingColor  ParaShadingFill  ParaSingleStrike  \\\n",
      "0          clear                 0             auto             False   \n",
      "1          clear                 0             auto             False   \n",
      "2          clear                 0             auto             False   \n",
      "3          clear                 0             auto             False   \n",
      "4          clear                 0             auto             False   \n",
      "\n",
      "  ParaDoubleStrike  ParaUnderline  ParaSmallCaps            file_name  \\\n",
      "0            False            NaN          FALSE  BLO_00_ACEX_PRELIMS   \n",
      "1            False            NaN          FALSE  BLO_00_ACEX_PRELIMS   \n",
      "2            False            NaN          FALSE  BLO_00_ACEX_PRELIMS   \n",
      "3            False            NaN          FALSE  BLO_00_ACEX_PRELIMS   \n",
      "4            False            NaN          FALSE  BLO_00_ACEX_PRELIMS   \n",
      "\n",
      "         TagName  ParagraphTagName  \n",
      "0     Half_Title        Half_Title  \n",
      "1    Series_Head       Series_Head  \n",
      "2  Series_Editor     Series_Editor  \n",
      "3  Series_Editor     Series_Editor  \n",
      "4    Series_Text       Series_Text  \n",
      "\n",
      "[5 rows x 48 columns]\n"
     ]
    }
   ],
   "source": [
    "# Add a new column to the dataframe that contains the TagName associated with each paragraph\n",
    "data['ParagraphTagName'] = data.groupby('ParaID')['TagName'].transform('first')\n",
    "\n",
    "# Print the first few rows of the dataframe with the new column\n",
    "print(data.head())\n"
   ]
  }
 ],
 "metadata": {
  "kernelspec": {
   "display_name": "Python 3",
   "language": "python",
   "name": "python3"
  },
  "language_info": {
   "codemirror_mode": {
    "name": "ipython",
    "version": 3
   },
   "file_extension": ".py",
   "mimetype": "text/x-python",
   "name": "python",
   "nbconvert_exporter": "python",
   "pygments_lexer": "ipython3",
   "version": "3.10.7"
  },
  "orig_nbformat": 4
 },
 "nbformat": 4,
 "nbformat_minor": 2
}
