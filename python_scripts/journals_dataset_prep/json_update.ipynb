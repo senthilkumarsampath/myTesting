{
 "cells": [
  {
   "cell_type": "code",
   "execution_count": 18,
   "metadata": {},
   "outputs": [],
   "source": [
    "import os\n",
    "import json\n",
    "\n",
    "def update_user_tag(original_file_path, revised_file_path, output_file_path):\n",
    "    # Load the original JSON file\n",
    "    with open(original_file_path, 'r') as original_file:\n",
    "        original_data = json.load(original_file)\n",
    "\n",
    "    # Load the revised JSON file\n",
    "    with open(revised_file_path, 'r') as revised_file:\n",
    "        revised_data = json.load(revised_file)\n",
    "\n",
    "    # Check if the \"LdxData\" key exists in both JSON files\n",
    "    if \"LdxData\" in original_data and \"LdxData\" in revised_data:\n",
    "        original_ldx_data = original_data[\"LdxData\"]\n",
    "        revised_ldx_data = revised_data[\"LdxData\"]\n",
    "\n",
    "        # Ensure the lengths of the lists match\n",
    "        if len(original_ldx_data) == len(revised_ldx_data):\n",
    "            for i in range(len(original_ldx_data)):\n",
    "                original_ldx_data[i][\"UserTag\"] = revised_ldx_data[i][\"UserTag\"]\n",
    "\n",
    "    # Save the updated JSON to the output file\n",
    "    with open(output_file_path, 'w') as output_file:\n",
    "        json.dump(original_data, output_file, indent=4)\n",
    "\n",
    "def process_folder(root_folder):\n",
    "    for root, _, files in os.walk(root_folder):\n",
    "        for file_name in files:\n",
    "            if file_name.endswith('_revised.json'):\n",
    "                revised_file_path = os.path.join(root, file_name)\n",
    "                original_file_name = file_name.replace('_revised.json', '.json')\n",
    "                original_file_path = os.path.join(root, original_file_name)\n",
    "                output_file_name = original_file_name.replace('.json', '_final.json')\n",
    "                output_file_path = os.path.join(root, output_file_name)\n",
    "\n",
    "                if os.path.exists(original_file_path):\n",
    "                    update_user_tag(original_file_path, revised_file_path, output_file_path)\n",
    "\n",
    "root_folder = '/Users/senthil/Downloads/journals_data_element_prediction/new'  # Your specified root path\n",
    "process_folder(root_folder)\n"
   ]
  }
 ],
 "metadata": {
  "kernelspec": {
   "display_name": "Python 3",
   "language": "python",
   "name": "python3"
  },
  "language_info": {
   "codemirror_mode": {
    "name": "ipython",
    "version": 3
   },
   "file_extension": ".py",
   "mimetype": "text/x-python",
   "name": "python",
   "nbconvert_exporter": "python",
   "pygments_lexer": "ipython3",
   "version": "3.10.11"
  }
 },
 "nbformat": 4,
 "nbformat_minor": 2
}
