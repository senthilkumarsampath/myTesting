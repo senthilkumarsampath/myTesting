{
 "cells": [
  {
   "cell_type": "code",
   "execution_count": 1,
   "metadata": {},
   "outputs": [],
   "source": [
    "from docx import Document\n",
    "\n",
    "# Load the first document\n",
    "doc1 = Document('/Users/senthil/Downloads/manuscript package/Chapter 1.docx')\n",
    "\n",
    "# Load the second document\n",
    "doc2 = Document('/Users/senthil/Downloads/manuscript package/Chapter 2.docx')\n",
    "\n",
    "# Create a new Document object to hold the combined content\n",
    "combined_doc = Document()\n",
    "\n",
    "# Iterate through the sections of the first document and add them to the combined document\n",
    "for element in doc1.element.body:\n",
    "    combined_doc.element.body.append(element)\n",
    "\n",
    "# Add a page break between the two documents\n",
    "combined_doc.add_page_break()\n",
    "\n",
    "# Iterate through the sections of the second document and add them to the combined document\n",
    "for element in doc2.element.body:\n",
    "    combined_doc.element.body.append(element)\n",
    "\n",
    "# Save the combined document to a new file\n",
    "combined_doc.save('/Users/senthil/Downloads/manuscript package/combined_document.docx')\n"
   ]
  },
  {
   "cell_type": "code",
   "execution_count": 5,
   "metadata": {},
   "outputs": [],
   "source": [
    "from docxcompose.composer import Composer\n",
    "from docx import Document\n",
    "import os\n",
    "\n",
    "# Path to the folder containing the Word documents\n",
    "folder_path = \"/Users/senthil/Downloads/manuscript package\"\n",
    "\n",
    "# Load the first document as the master\n",
    "master = Document(os.path.join(folder_path, \"Chapter 1.docx\"))\n",
    "\n",
    "# Initialize the composer with the master document\n",
    "composer = Composer(master)\n",
    "\n",
    "# Iterate through all the files in the folder (excluding the first one)\n",
    "for filename in os.listdir(folder_path):\n",
    "    if filename.endswith(\".docx\") and filename != \"Chapter 1.docx\":\n",
    "        # Create a full path to the Word document\n",
    "        file_path = os.path.join(folder_path, filename)\n",
    "        \n",
    "        # Load the chapter document\n",
    "        doc = Document(file_path)\n",
    "        \n",
    "        # Add a page break before appending the chapter\n",
    "        composer.append(doc)\n",
    "        composer.append(Document().add_page_break())  # Add a page break after each chapter\n",
    "\n",
    "# Save the combined document\n",
    "composer.save(\"/Users/senthil/Downloads/manuscript package/Chapters_combined.docx\")\n"
   ]
  }
 ],
 "metadata": {
  "kernelspec": {
   "display_name": "Python 3",
   "language": "python",
   "name": "python3"
  },
  "language_info": {
   "codemirror_mode": {
    "name": "ipython",
    "version": 3
   },
   "file_extension": ".py",
   "mimetype": "text/x-python",
   "name": "python",
   "nbconvert_exporter": "python",
   "pygments_lexer": "ipython3",
   "version": "3.10.11"
  }
 },
 "nbformat": 4,
 "nbformat_minor": 2
}
