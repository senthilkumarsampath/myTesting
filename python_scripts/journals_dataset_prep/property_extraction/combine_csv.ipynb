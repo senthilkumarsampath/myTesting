{
 "cells": [
  {
   "cell_type": "code",
   "execution_count": 14,
   "metadata": {},
   "outputs": [],
   "source": [
    "import os\n",
    "import pandas as pd\n",
    "import re\n",
    "\n",
    "def add_filename_column(csv_path):\n",
    "    filename = os.path.basename(csv_path).split('.')[0]\n",
    "    df = pd.read_csv(csv_path)\n",
    "    df['filename'] = filename\n",
    "    df.to_csv(csv_path, index=False)\n",
    "\n",
    "def extract_classname(row):\n",
    "    match = re.search(r'{{(.*?)}}', row['ParaCleanedContent'])\n",
    "    if match:\n",
    "        return match.group(1)\n",
    "    else:\n",
    "        return None\n",
    "\n",
    "def remove_markup_and_class(row):\n",
    "    cleaned_content = re.sub(r'{{.*?}}', '', row['ParaCleanedContent'])\n",
    "    return cleaned_content.strip()\n",
    "\n",
    "def remove_classname_from_paracontent(row):\n",
    "    cleaned_content = re.sub(r'{{.*?}}', '', row['ParaContent'])\n",
    "    return cleaned_content.strip()\n",
    "\n",
    "def add_classname_column(csv_path):\n",
    "    df = pd.read_csv(csv_path)\n",
    "    df['classname'] = df.apply(extract_classname, axis=1)\n",
    "    df['ParaCleanedContent'] = df.apply(remove_markup_and_class, axis=1)\n",
    "    # Move the 'classname' column to the last position\n",
    "    cols = df.columns.tolist()\n",
    "    cols.insert(len(cols), cols.pop(cols.index('classname')))\n",
    "    df = df[cols]\n",
    "    df['ParaContent'] = df.apply(remove_classname_from_paracontent, axis=1)  # Remove classname pattern from ParaContent\n",
    "    df.to_csv(csv_path, index=False)\n",
    "\n",
    "def process_folder(folder_path):\n",
    "    combined_df = pd.DataFrame()\n",
    "    for file in os.listdir(folder_path):\n",
    "        if file.endswith('.csv'):\n",
    "            csv_path = os.path.join(folder_path, file)\n",
    "            add_filename_column(csv_path)\n",
    "            add_classname_column(csv_path)\n",
    "            df = pd.read_csv(csv_path)\n",
    "            combined_df = pd.concat([combined_df, df], ignore_index=True)\n",
    "    combined_df.to_csv(os.path.join(folder_path, 'combined_dataset.csv'), index=False)\n",
    "\n",
    "if __name__ == \"__main__\":\n",
    "    folder_path = '/Users/senthil/Downloads/JPT/journals_data_element_prediction/test'\n",
    "    process_folder(folder_path)\n"
   ]
  },
  {
   "cell_type": "code",
   "execution_count": 15,
   "metadata": {},
   "outputs": [
    {
     "name": "stderr",
     "output_type": "stream",
     "text": [
      "/var/folders/p2/xskk7bl50ms9tcdsfrvdq3jr0000gp/T/ipykernel_69013/2579008113.py:4: DtypeWarning: Columns (22,26,30,34,38) have mixed types. Specify dtype option on import or set low_memory=False.\n",
      "  df = pd.read_csv(csv_path)\n"
     ]
    }
   ],
   "source": [
    "import pandas as pd\n",
    "\n",
    "def remove_empty_classname_rows(csv_path):\n",
    "    df = pd.read_csv(csv_path)\n",
    "    df = df.dropna(subset=['classname'])  # Drop rows with empty classname\n",
    "    df.to_csv(csv_path, index=False)\n",
    "\n",
    "if __name__ == \"__main__\":\n",
    "    csv_path = '/Users/senthil/Downloads/JPT/journals_data_element_prediction/dataset/journals_ep_dataset.csv'\n",
    "    remove_empty_classname_rows(csv_path)\n"
   ]
  }
 ],
 "metadata": {
  "kernelspec": {
   "display_name": "Python 3",
   "language": "python",
   "name": "python3"
  },
  "language_info": {
   "codemirror_mode": {
    "name": "ipython",
    "version": 3
   },
   "file_extension": ".py",
   "mimetype": "text/x-python",
   "name": "python",
   "nbconvert_exporter": "python",
   "pygments_lexer": "ipython3",
   "version": "3.10.11"
  }
 },
 "nbformat": 4,
 "nbformat_minor": 2
}
