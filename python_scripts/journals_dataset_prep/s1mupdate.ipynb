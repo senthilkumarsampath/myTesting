{
 "cells": [
  {
   "cell_type": "code",
   "execution_count": 13,
   "metadata": {},
   "outputs": [],
   "source": [
    "input_xml_file = '/Users/senthil/Downloads/JPT/s1m/manuscript samples/rem-23-0026-20231219143656/rem-23-0026-metadata.xml'"
   ]
  },
  {
   "cell_type": "markdown",
   "metadata": {},
   "source": [
    "# Metatdata Cleanup"
   ]
  },
  {
   "cell_type": "code",
   "execution_count": 14,
   "metadata": {},
   "outputs": [
    {
     "name": "stdout",
     "output_type": "stream",
     "text": [
      "Modified XML saved as: /Users/senthil/Downloads/JPT/s1m/manuscript samples/rem-23-0026-20231219143656/rem-23-0026-metadata_modified.xml\n"
     ]
    }
   ],
   "source": [
    "import os\n",
    "from lxml import etree\n",
    "\n",
    "# Function to remove elements without text content\n",
    "def remove_empty_elements(element):\n",
    "    for child in list(element):\n",
    "        remove_empty_elements(child)\n",
    "    if len(element) == 0 and (element.text is None or element.text.strip() == ''):\n",
    "        element.getparent().remove(element)\n",
    "\n",
    "# Function to remove specified elements if they exist\n",
    "def remove_specified_elements(root, elements_to_remove):\n",
    "    elements_removed = False\n",
    "    for name in elements_to_remove:\n",
    "        for elem in root.findall(\".//{}\".format(name)):\n",
    "            elements_removed = True\n",
    "            parent = elem.getparent()\n",
    "            if parent is not None:\n",
    "                parent.remove(elem)\n",
    "    return elements_removed\n",
    "\n",
    "# Input XML file path\n",
    "# input_xml_file = 'your_xml_file.xml'\n",
    "\n",
    "# Parse the XML document using lxml\n",
    "tree = etree.parse(input_xml_file)\n",
    "root = tree.getroot()\n",
    "\n",
    "# List of element names to be removed\n",
    "elements_to_remove = ['author_comments','email_list','task','response','user_list','hour','minute','second','time_zone','total_pages_calc','total_pdf_pages','num_pages_calc','num_pages_actual','file_createddate']\n",
    "\n",
    "# Remove elements without text content\n",
    "remove_empty_elements(root)\n",
    "\n",
    "# Remove specified elements if they exist\n",
    "specified_elements_removed = remove_specified_elements(root, elements_to_remove)\n",
    "\n",
    "# Create the modified XML file name\n",
    "output_xml_file = os.path.splitext(input_xml_file)[0] + '_modified.xml'\n",
    "\n",
    "# Save the modified XML to the new file\n",
    "tree.write(output_xml_file, encoding=\"utf-8\", xml_declaration=True)\n",
    "\n",
    "if specified_elements_removed:\n",
    "    print(f\"Modified XML saved as: {output_xml_file}\")\n",
    "else:\n",
    "    print(\"No elements are removed.\")\n"
   ]
  },
  {
   "cell_type": "code",
   "execution_count": 1,
   "metadata": {},
   "outputs": [],
   "source": [
    "input_xml_file = '/Users/senthil/Downloads/JPT/s1m/manuscript samples/rem-23-0026-20231219143656/rem-23-0026-metadata.xml'\n"
   ]
  },
  {
   "cell_type": "markdown",
   "metadata": {},
   "source": [
    "# XML to JSON"
   ]
  },
  {
   "cell_type": "code",
   "execution_count": 2,
   "metadata": {},
   "outputs": [
    {
     "name": "stdout",
     "output_type": "stream",
     "text": [
      "Converted JSON saved as: /Users/senthil/Downloads/JPT/s1m/manuscript samples/rem-23-0026-20231219143656/rem-23-0026-metadata_modified.json\n"
     ]
    }
   ],
   "source": [
    "import os\n",
    "import json\n",
    "from lxml import etree\n",
    "\n",
    "# Function to recursively convert XML to JSON\n",
    "def xml_to_json(element):\n",
    "    data = {}\n",
    "    if element.text and element.text.strip():\n",
    "        data[element.tag] = element.text.strip()\n",
    "    for attr_name, attr_value in element.items():\n",
    "        data[attr_name] = attr_value\n",
    "    for child in element:\n",
    "        child_data = xml_to_json(child)\n",
    "        if child.tag in data:\n",
    "            if isinstance(data[child.tag], list):\n",
    "                data[child.tag].append(child_data)\n",
    "            else:\n",
    "                data[child.tag] = [data[child.tag], child_data]\n",
    "        else:\n",
    "            data[child.tag] = child_data\n",
    "    return data\n",
    "\n",
    "# Input XML file path\n",
    "# input_xml_file = 'your_modified_xml_file.xml'\n",
    "\n",
    "# Parse the XML document using lxml\n",
    "tree = etree.parse(input_xml_file)\n",
    "root = tree.getroot()\n",
    "\n",
    "# Create a top-level dictionary to hold the XML root element\n",
    "root_data = {}\n",
    "\n",
    "# Create a dictionary for the child elements of the root element\n",
    "child_data = {}\n",
    "for child in root:\n",
    "    child_data[child.tag] = xml_to_json(child)\n",
    "\n",
    "# Add the child element data to the root_data dictionary\n",
    "root_data.update(child_data)\n",
    "\n",
    "# Create a JSON file\n",
    "output_json_file = os.path.splitext(input_xml_file)[0] + '_modified.json'\n",
    "\n",
    "# Save the JSON data to the new file\n",
    "with open(output_json_file, 'w', encoding='utf-8') as json_file:\n",
    "    json.dump(root_data, json_file, ensure_ascii=False, indent=4)\n",
    "\n",
    "print(f\"Converted JSON saved as: {output_json_file}\")\n"
   ]
  }
 ],
 "metadata": {
  "kernelspec": {
   "display_name": "Python 3",
   "language": "python",
   "name": "python3"
  },
  "language_info": {
   "codemirror_mode": {
    "name": "ipython",
    "version": 3
   },
   "file_extension": ".py",
   "mimetype": "text/x-python",
   "name": "python",
   "nbconvert_exporter": "python",
   "pygments_lexer": "ipython3",
   "version": "3.10.11"
  }
 },
 "nbformat": 4,
 "nbformat_minor": 2
}
