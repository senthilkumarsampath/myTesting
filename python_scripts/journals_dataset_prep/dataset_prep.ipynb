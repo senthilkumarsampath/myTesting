{
 "cells": [
  {
   "cell_type": "markdown",
   "metadata": {},
   "source": [
    "## Append the class name inside docx"
   ]
  },
  {
   "cell_type": "code",
   "execution_count": 1,
   "metadata": {},
   "outputs": [
    {
     "name": "stdout",
     "output_type": "stream",
     "text": [
      "Processed: /Users/senthil/Downloads/JPT/journals_data_element_prediction/test/ABCR_20230217/ABCR_20230217.docx, Updated file saved to: /Users/senthil/Downloads/JPT/journals_data_element_prediction/test/updated_docx/ABCR_20230217.docx\n",
      "Processed: /Users/senthil/Downloads/JPT/journals_data_element_prediction/test/ABCR_20230161/ABCR_20230161.docx, Updated file saved to: /Users/senthil/Downloads/JPT/journals_data_element_prediction/test/updated_docx/ABCR_20230161.docx\n",
      "Processed: /Users/senthil/Downloads/JPT/journals_data_element_prediction/test/ABCR_20230180/ABCR_20230180.docx, Updated file saved to: /Users/senthil/Downloads/JPT/journals_data_element_prediction/test/updated_docx/ABCR_20230180.docx\n",
      "Processed: /Users/senthil/Downloads/JPT/journals_data_element_prediction/test/ABCR_20230173/ABCR_20230173.docx, Updated file saved to: /Users/senthil/Downloads/JPT/journals_data_element_prediction/test/updated_docx/ABCR_20230173.docx\n",
      "Processed: /Users/senthil/Downloads/JPT/journals_data_element_prediction/test/ABCR_20230187/ABCR_20230187.docx, Updated file saved to: /Users/senthil/Downloads/JPT/journals_data_element_prediction/test/updated_docx/ABCR_20230187.docx\n",
      "Processed: /Users/senthil/Downloads/JPT/journals_data_element_prediction/test/ABCR_20220121/ABCR_20220121.docx, Updated file saved to: /Users/senthil/Downloads/JPT/journals_data_element_prediction/test/updated_docx/ABCR_20220121.docx\n",
      "Processed: /Users/senthil/Downloads/JPT/journals_data_element_prediction/test/ABCR_20230235/ABCR_20230235.docx, Updated file saved to: /Users/senthil/Downloads/JPT/journals_data_element_prediction/test/updated_docx/ABCR_20230235.docx\n",
      "Processed: /Users/senthil/Downloads/JPT/journals_data_element_prediction/test/ABCR_20230163/ABCR_20230163.docx, Updated file saved to: /Users/senthil/Downloads/JPT/journals_data_element_prediction/test/updated_docx/ABCR_20230163.docx\n",
      "Processed: /Users/senthil/Downloads/JPT/journals_data_element_prediction/test/ABCR_20220108/ABCR_20220108.docx, Updated file saved to: /Users/senthil/Downloads/JPT/journals_data_element_prediction/test/updated_docx/ABCR_20220108.docx\n",
      "Processed: /Users/senthil/Downloads/JPT/journals_data_element_prediction/test/ABCR_20230170/ABCR_20230170.docx, Updated file saved to: /Users/senthil/Downloads/JPT/journals_data_element_prediction/test/updated_docx/ABCR_20230170.docx\n",
      "Processed: /Users/senthil/Downloads/JPT/journals_data_element_prediction/test/ABCR_20230184/ABCR_20230184.docx, Updated file saved to: /Users/senthil/Downloads/JPT/journals_data_element_prediction/test/updated_docx/ABCR_20230184.docx\n",
      "Processed: /Users/senthil/Downloads/JPT/journals_data_element_prediction/test/ABCR_20230149/ABCR_20230149.docx, Updated file saved to: /Users/senthil/Downloads/JPT/journals_data_element_prediction/test/updated_docx/ABCR_20230149.docx\n"
     ]
    }
   ],
   "source": [
    "import os\n",
    "import json\n",
    "from docx import Document\n",
    "from docx.shared import Pt, RGBColor\n",
    "\n",
    "def process_folder(folder_path):\n",
    "    output_folder = os.path.join(folder_path, 'updated_docx')\n",
    "    if not os.path.exists(output_folder):\n",
    "        os.makedirs(output_folder)\n",
    "    for root, dirs, files in os.walk(folder_path):\n",
    "        for file in files:\n",
    "            if file.endswith('.docx'):\n",
    "                docx_path = os.path.join(root, file)\n",
    "                json_path = os.path.join(root, file.replace('.docx', '.json'))\n",
    "                if os.path.exists(json_path):\n",
    "                    process_docx_with_json(docx_path, json_path, output_folder)\n",
    "\n",
    "def process_docx_with_json(docx_path, json_path, output_folder):\n",
    "    with open(json_path, 'r') as json_file:\n",
    "        data = json.load(json_file)\n",
    "\n",
    "    doc = Document(docx_path)\n",
    "\n",
    "    # Remove empty paragraphs before appending class names\n",
    "    remove_empty_paragraphs(doc)\n",
    "\n",
    "    for para_data in data.get('LdxData', []):\n",
    "        para_id = para_data.get('ParaID')\n",
    "        if para_id and para_id.isdigit():\n",
    "            para_id = int(para_id)\n",
    "            if 1 <= para_id <= len(doc.paragraphs):\n",
    "                para = doc.paragraphs[para_id - 1]\n",
    "                class_name = para_data.get('IdentifyStyle')\n",
    "                if class_name:\n",
    "                    append_class_name(para, class_name)\n",
    "\n",
    "    output_path = os.path.join(output_folder, os.path.basename(docx_path))\n",
    "    doc.save(output_path)\n",
    "    print(f\"Processed: {docx_path}, Updated file saved to: {output_path}\")\n",
    "\n",
    "def append_class_name(para, class_name):\n",
    "    # Append class name at the end of the paragraph\n",
    "    run = para.add_run(f\" {{{{{class_name}}}}}\")\n",
    "    # Preserve the original paragraph style properties\n",
    "    run.bold = para.style.font.bold\n",
    "    run.italic = para.style.font.italic\n",
    "    run.underline = para.style.font.underline\n",
    "    run.font.size = para.style.font.size\n",
    "    run.font.color.rgb = para.style.font.color.rgb\n",
    "\n",
    "def remove_empty_paragraphs(doc):\n",
    "    for para in doc.paragraphs[:]:\n",
    "        if not para.text.strip():\n",
    "            doc._element.body.remove(para._element)\n",
    "\n",
    "if __name__ == \"__main__\":\n",
    "    folder_path = '/Users/senthil/Downloads/JPT/journals_data_element_prediction/test'\n",
    "    process_folder(folder_path)\n"
   ]
  },
  {
   "cell_type": "markdown",
   "metadata": {},
   "source": [
    "### Collect the uniqure class name from the property json"
   ]
  },
  {
   "cell_type": "code",
   "execution_count": 21,
   "metadata": {},
   "outputs": [
    {
     "name": "stdout",
     "output_type": "stream",
     "text": [
      "['AFF', 'SUPPLFIG', 'REF', 'ABSTRACTTEXT', 'ACK', 'VOLUME', 'REF_TITLE', 'SUB_LI', 'FN', 'DOCHEAD', 'BL', 'LI', 'DOI', 'LI_PARA', 'H2', 'AFFS', 'SUPPLTBL', 'EXTRACT', 'LRH', 'BIOGRAPHY_PARA', 'EPIGRAPH', 'EQUATION', 'DATE', 'ISSUE', 'COPYRIGHT', 'EXAMPLE_GROUP', 'SUBJECTEDITOR', 'TRANSABSTRACTTEXT', 'EPIGRAPH_AUTHOR', 'OA', 'ABSTRACTH1', 'TITLE', 'AUTHORS', 'H1', 'H4', 'TBL', 'CORRESPONDENCE', 'PARANOTES', 'TRANSTITLE', '[DELETE]', 'PUBLICATIONDATE', 'TRANSABSTRACTHEAD', 'H3', 'SUPPLTBLFN', 'BOX_TEXT', 'PARA', 'KEYWORDS', 'ABSTRACTHEAD', 'FIG', 'RRH', 'TBLFN', 'BOX_TITLE']\n"
     ]
    }
   ],
   "source": [
    "import os\n",
    "import json\n",
    "\n",
    "def collect_identify_styles(folder_path):\n",
    "    unique_styles = set()\n",
    "\n",
    "    for root, dirs, files in os.walk(folder_path):\n",
    "        for file in files:\n",
    "            if file.endswith('.json'):\n",
    "                json_path = os.path.join(root, file)\n",
    "                styles = extract_identify_styles(json_path)\n",
    "                unique_styles.update(styles)\n",
    "\n",
    "    return list(unique_styles)\n",
    "\n",
    "def extract_identify_styles(json_path):\n",
    "    styles = set()\n",
    "    with open(json_path, 'r') as json_file:\n",
    "        data = json.load(json_file)\n",
    "        for item in data.get('LdxData', []):\n",
    "            style = item.get('IdentifyStyle')\n",
    "            if style:\n",
    "                styles.add(style)\n",
    "    return styles\n",
    "\n",
    "if __name__ == \"__main__\":\n",
    "    folder_path = '/Users/senthil/Downloads/JPT/journals_data_element_prediction/dataset prep'\n",
    "    unique_styles = collect_identify_styles(folder_path)\n",
    "    print(unique_styles)\n"
   ]
  }
 ],
 "metadata": {
  "kernelspec": {
   "display_name": "Python 3",
   "language": "python",
   "name": "python3"
  },
  "language_info": {
   "codemirror_mode": {
    "name": "ipython",
    "version": 3
   },
   "file_extension": ".py",
   "mimetype": "text/x-python",
   "name": "python",
   "nbconvert_exporter": "python",
   "pygments_lexer": "ipython3",
   "version": "3.10.11"
  }
 },
 "nbformat": 4,
 "nbformat_minor": 2
}
