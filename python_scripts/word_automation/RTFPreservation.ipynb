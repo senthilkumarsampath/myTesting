{
 "cells": [
  {
   "cell_type": "code",
   "execution_count": 15,
   "metadata": {},
   "outputs": [],
   "source": [
    "import docx\n",
    "from docx.shared import Pt\n",
    "from docx.oxml.ns import qn\n",
    "from docx.oxml.shared import OxmlElement\n",
    "document = docx.Document('/Users/senthil/Desktop/Senthil/myTesting/TNF_02_316421_C002.docx')"
   ]
  },
  {
   "cell_type": "code",
   "execution_count": 26,
   "metadata": {},
   "outputs": [],
   "source": [
    "para1 = document.paragraphs[1].text\n",
    "# print(para1)\n",
    "# document.paragraphs[2].add_run(para1)\n",
    "document.save('/Users/senthil/Desktop/Senthil/myTesting/TNF_02_316421_C003.docx')\n",
    "new_run = \"senthil\"\n",
    "\n",
    "# sec_run = para1[14:18]\n",
    "# print(new_run)\n"
   ]
  },
  {
   "cell_type": "code",
   "execution_count": 9,
   "metadata": {},
   "outputs": [],
   "source": [
    "# doc = docx.Document('/Users/senthil/Desktop/Senthil/myTesting/TNF_02_316421_C002.docx')\n",
    "\n",
    "# paraone = doc.paragraphs[1]\n",
    "\n",
    "# test_run = isolate_run(paraone, 0, 10)\n",
    "# test_run.bold=True\n",
    "# for par in doc.paragraphs:\n",
    "#     isolate_run(par, 0, len(par.runs))\n",
    "#     for run in par.runs:\n",
    "#         print(run.text)"
   ]
  },
  {
   "cell_type": "code",
   "execution_count": 30,
   "metadata": {},
   "outputs": [
    {
     "name": "stdout",
     "output_type": "stream",
     "text": [
      "<w:r xmlns:w=\"http://schemas.openxmlformats.org/wordprocessingml/2006/main\" xmlns:wpc=\"http://schemas.microsoft.com/office/word/2010/wordprocessingCanvas\" xmlns:cx=\"http://schemas.microsoft.com/office/drawing/2014/chartex\" xmlns:cx1=\"http://schemas.microsoft.com/office/drawing/2015/9/8/chartex\" xmlns:cx2=\"http://schemas.microsoft.com/office/drawing/2015/10/21/chartex\" xmlns:cx3=\"http://schemas.microsoft.com/office/drawing/2016/5/9/chartex\" xmlns:cx4=\"http://schemas.microsoft.com/office/drawing/2016/5/10/chartex\" xmlns:cx5=\"http://schemas.microsoft.com/office/drawing/2016/5/11/chartex\" xmlns:cx6=\"http://schemas.microsoft.com/office/drawing/2016/5/12/chartex\" xmlns:cx7=\"http://schemas.microsoft.com/office/drawing/2016/5/13/chartex\" xmlns:cx8=\"http://schemas.microsoft.com/office/drawing/2016/5/14/chartex\" xmlns:mc=\"http://schemas.openxmlformats.org/markup-compatibility/2006\" xmlns:aink=\"http://schemas.microsoft.com/office/drawing/2016/ink\" xmlns:am3d=\"http://schemas.microsoft.com/office/drawing/2017/model3d\" xmlns:o=\"urn:schemas-microsoft-com:office:office\" xmlns:oel=\"http://schemas.microsoft.com/office/2019/extlst\" xmlns:r=\"http://schemas.openxmlformats.org/officeDocument/2006/relationships\" xmlns:m=\"http://schemas.openxmlformats.org/officeDocument/2006/math\" xmlns:v=\"urn:schemas-microsoft-com:vml\" xmlns:wp14=\"http://schemas.microsoft.com/office/word/2010/wordprocessingDrawing\" xmlns:wp=\"http://schemas.openxmlformats.org/drawingml/2006/wordprocessingDrawing\" xmlns:w10=\"urn:schemas-microsoft-com:office:word\" xmlns:w14=\"http://schemas.microsoft.com/office/word/2010/wordml\" xmlns:w15=\"http://schemas.microsoft.com/office/word/2012/wordml\" xmlns:w16cex=\"http://schemas.microsoft.com/office/word/2018/wordml/cex\" xmlns:w16cid=\"http://schemas.microsoft.com/office/word/2016/wordml/cid\" xmlns:w16=\"http://schemas.microsoft.com/office/word/2018/wordml\" xmlns:w16sdtdh=\"http://schemas.microsoft.com/office/word/2020/wordml/sdtdatahash\" xmlns:w16se=\"http://schemas.microsoft.com/office/word/2015/wordml/symex\" xmlns:wpg=\"http://schemas.microsoft.com/office/word/2010/wordprocessingGroup\" xmlns:wpi=\"http://schemas.microsoft.com/office/word/2010/wordprocessingInk\" xmlns:wne=\"http://schemas.microsoft.com/office/word/2006/wordml\" xmlns:wps=\"http://schemas.microsoft.com/office/word/2010/wordprocessingShape\">\n",
      "  <w:t>senthil</w:t>\n",
      "</w:r>\n",
      "\n",
      "Vehicles and Gross Vehicle Weightsenthilsenthilsenthilsenthilsenthilsenthilsenthilsenthilsenthilsenthilsenthil\n"
     ]
    }
   ],
   "source": [
    "# revised_doc = document()\n",
    "document.paragraphs[1]=''\n",
    "run = document.paragraphs[1].add_run(new_run)\n",
    "\n",
    "# Get the XML tag\n",
    "tag = run._r\n",
    "print(run.element.xml)\n",
    "\n",
    "# Create XML element\n",
    "shd = OxmlElement('w:shd')\n",
    "italic = OxmlElement('w:i')\n",
    "\n",
    "# Add attributes to the element\n",
    "shd.set(qn('w:val'), 'clear')\n",
    "shd.set(qn('w:color'), 'auto')\n",
    "shd.set(qn('w:fill'), 'FFAAAA')\n",
    "\n",
    "# Set the font size - this is important! Without this step the\n",
    "# tag.rPr value below will be None.\n",
    "run.font.size = Pt(14)\n",
    "# print(run.element.xml)\n",
    "tag.rPr.append(italic)\n",
    "tag.rPr.append(shd)\n",
    "# print(run.element.xml)\n",
    "\n",
    "# document.paragraphs[1].add_run(sec_run).bold=True\n",
    "\n",
    "# update_para = document.paragraphs[1].text\n",
    "\n",
    "# update_run = isolate_run(update_para, 0, 10)\n",
    "# update_run.italic=True\n",
    "# print(update_run)\n",
    "print(document.paragraphs[1].text)\n",
    "document.save('/Users/senthil/Desktop/Senthil/myTesting/TNF_02_316421_C003.docx')"
   ]
  }
 ],
 "metadata": {
  "kernelspec": {
   "display_name": "Python 3.10.7 64-bit",
   "language": "python",
   "name": "python3"
  },
  "language_info": {
   "codemirror_mode": {
    "name": "ipython",
    "version": 3
   },
   "file_extension": ".py",
   "mimetype": "text/x-python",
   "name": "python",
   "nbconvert_exporter": "python",
   "pygments_lexer": "ipython3",
   "version": "3.10.7"
  },
  "orig_nbformat": 4,
  "vscode": {
   "interpreter": {
    "hash": "aee8b7b246df8f9039afb4144a1f6fd8d2ca17a180786b69acc140d282b71a49"
   }
  }
 },
 "nbformat": 4,
 "nbformat_minor": 2
}
