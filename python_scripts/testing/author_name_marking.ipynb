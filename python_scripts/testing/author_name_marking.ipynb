{
 "cells": [
  {
   "cell_type": "code",
   "execution_count": null,
   "metadata": {},
   "outputs": [],
   "source": [
    "import spacy\n",
    "\n",
    "ner_model = spacy.load('en_core_web_sm')\n",
    "\n",
    "\n",
    "def extract_all_ents(para_content):\n",
    "        \"\"\"Function to extract all entities from para content. \n",
    "        Args:\n",
    "            para_content (str): para cleanned content.\n",
    "        Returns:\n",
    "            extracted entities (str)\n",
    "        \"\"\"\n",
    "        # return all extracted entities as list of entities\n",
    "        return [(ent.text, ent.label_) for ent in ner_model(para_content).ents]"
   ]
  }
 ],
 "metadata": {
  "kernelspec": {
   "display_name": "Python 3",
   "language": "python",
   "name": "python3"
  },
  "language_info": {
   "codemirror_mode": {
    "name": "ipython",
    "version": 3
   },
   "file_extension": ".py",
   "mimetype": "text/x-python",
   "name": "python",
   "nbconvert_exporter": "python",
   "pygments_lexer": "ipython3",
   "version": "3.10.7 (v3.10.7:6cc6b13308, Sep  5 2022, 14:02:52) [Clang 13.0.0 (clang-1300.0.29.30)]"
  },
  "orig_nbformat": 4,
  "vscode": {
   "interpreter": {
    "hash": "aee8b7b246df8f9039afb4144a1f6fd8d2ca17a180786b69acc140d282b71a49"
   }
  }
 },
 "nbformat": 4,
 "nbformat_minor": 2
}
