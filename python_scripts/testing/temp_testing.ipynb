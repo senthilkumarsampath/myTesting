{
 "cells": [
  {
   "cell_type": "code",
   "execution_count": 11,
   "metadata": {},
   "outputs": [
    {
     "name": "stderr",
     "output_type": "stream",
     "text": [
      "/var/folders/29/tqd3lhrd59x1bdpw9drsy6c00000gp/T/ipykernel_1672/1038497306.py:10: FutureWarning: The default value of regex will change from True to False in a future version.\n",
      "  data['Document'] = data['Document'].str.replace(r'\\W', ' ')  # Updated line\n",
      "/Library/Frameworks/Python.framework/Versions/3.10/lib/python3.10/site-packages/sklearn/linear_model/_logistic.py:458: ConvergenceWarning: lbfgs failed to converge (status=1):\n",
      "STOP: TOTAL NO. of ITERATIONS REACHED LIMIT.\n",
      "\n",
      "Increase the number of iterations (max_iter) or scale the data as shown in:\n",
      "    https://scikit-learn.org/stable/modules/preprocessing.html\n",
      "Please also refer to the documentation for alternative solver options:\n",
      "    https://scikit-learn.org/stable/modules/linear_model.html#logistic-regression\n",
      "  n_iter_i = _check_optimize_result(\n"
     ]
    }
   ],
   "source": [
    "import pandas as pd\n",
    "from sklearn.feature_extraction.text import CountVectorizer\n",
    "from sklearn.linear_model import LogisticRegression\n",
    "from sklearn.model_selection import train_test_split\n",
    "from sklearn.metrics import classification_report\n",
    "\n",
    "# Step 2: Load and Preprocess the Data\n",
    "data = pd.read_csv('/Users/senthil/Desktop/Senthil/myTesting/python_scripts/testing/training_data.csv')\n",
    "data['Document'] = data['Document'].str.lower()\n",
    "data['Document'] = data['Document'].str.replace(r'\\W', ' ')  # Updated line\n",
    "X = data['Document']\n",
    "y = data['Target']\n",
    "\n",
    "# Step 3: Feature Extraction\n",
    "vectorizer = CountVectorizer()\n",
    "X = vectorizer.fit_transform(X)\n",
    "\n",
    "# Step 4: Split the Data into Training and Testing Sets\n",
    "X_train, X_test, y_train, y_test = train_test_split(X, y, test_size=0.2, random_state=42)\n",
    "\n",
    "# Step 5: Train the Model\n",
    "clf = LogisticRegression()\n",
    "clf.fit(X_train, y_train)\n",
    "\n",
    "# Step 6: Evaluate the Model\n",
    "y_pred = clf.predict(X_test)\n",
    "# print(classification_report(y_test, y_pred))\n"
   ]
  },
  {
   "cell_type": "code",
   "execution_count": 46,
   "metadata": {},
   "outputs": [
    {
     "name": "stdout",
     "output_type": "stream",
     "text": [
      "Predicted Component Name: ['Chapter 4']\n"
     ]
    }
   ],
   "source": [
    "# Step 7: Predict with New Data\n",
    "new_data = ['06 Ch 5.docx']\n",
    "new_data = [name.lower().replace(r'\\W', ' ') for name in new_data]  # Updated line\n",
    "new_data = vectorizer.transform(new_data)\n",
    "predictions = clf.predict(new_data)\n",
    "\n",
    "print(f\"Predicted Component Name: {predictions}\")\n",
    "# for doc, pred in zip(new_data, predictions):\n",
    "#     print(f\"Document: {doc}  Prediction: {pred}\")\n"
   ]
  },
  {
   "cell_type": "code",
   "execution_count": 25,
   "metadata": {},
   "outputs": [],
   "source": [
    "import xml.etree.ElementTree as ET\n",
    "\n",
    "# Your output data\n",
    "output_data = [\n",
    "    {\n",
    "        \"client_abbr\": \"RL\",\n",
    "        \"project_id\": \"395\",\n",
    "        \"ele-id\": \"08E8EB31\",\n",
    "        \"reference_text\": \"Almbj\\u00e4r, Martin. 2019. \\u201cThe problem with early-modern petitions: safety valve or powder keg?\\u201d European Review of History: Revue europ\\u00e9enne d'histoire 26(6):1013-1039.\",\n",
    "        \"entities\": [\n",
    "            {\n",
    "                \"label\": \"author\",\n",
    "                \"entity_text\": \"Almbj\\u00e4r, Martin\",\n",
    "                \"start-index\": 0,\n",
    "                \"end-index\": 15\n",
    "            },\n",
    "            # ... other entities ...\n",
    "        ],\n",
    "        \"reference_type\": \"others\",\n",
    "        \"ref_xml\": \"<para ele-id=\\\"08E8EB31\\\" er-ref-processed=\\\"no\\\" xmlid=\\\"CIT000001\\\" store=\\\"191\\\" class=\\\"hidden_para\\\" contenteditable=\\\"true\\\">Almbj\\u00e4r, Martin. 2019. \\u201cThe problem with early-modern petitions: safety valve or powder keg?\\u201d <i store=\\\"192\\\" contenteditable=\\\"true\\\">European Review of History: Revue europ\\u00e9enne d'histoire</i> 26(6):1013-1039.</para>\"\n",
    "    }\n",
    "]\n",
    "\n",
    "# Process each item in the output data\n",
    "for output_item in output_data:\n",
    "    # Parse the ref-xml string into an Element object\n",
    "    root = ET.fromstring(output_item[\"ref_xml\"])\n",
    "\n",
    "    # Find the <para> element within root's children\n",
    "    para_element = None\n",
    "    for child in root:\n",
    "        if child.tag == \"para\":\n",
    "            para_element = child\n",
    "            break\n",
    "\n",
    "    # Ensure that the para element exists\n",
    "    if para_element is not None:\n",
    "        # Sort entities by start index in reverse order to avoid conflicts\n",
    "        entities = sorted(output_item[\"entities\"], key=lambda x: x[\"start-index\"], reverse=True)\n",
    "\n",
    "        # Iterate over the entities and insert them into the para element\n",
    "        for entity in entities:\n",
    "            label = entity[\"label\"]\n",
    "            entity_text = entity[\"entity_text\"]\n",
    "            start_index = entity[\"start-index\"]\n",
    "            end_index = entity[\"end-index\"]\n",
    "\n",
    "            # Create a new element for the entity using the \"label\" value\n",
    "            entity_element = ET.Element(label)\n",
    "            entity_element.text = entity_text\n",
    "\n",
    "            # Split the para text and insert the entity element\n",
    "            para_text = para_element.text\n",
    "            before_entity_text = para_text[:start_index]\n",
    "            after_entity_text = para_text[end_index:]\n",
    "            para_element.text = before_entity_text\n",
    "            para_element.append(entity_element)\n",
    "            if after_entity_text:\n",
    "                para_element.tail = after_entity_text\n",
    "\n",
    "    # Convert the modified Element back to an XML string\n",
    "    modified_ref_xml = ET.tostring(root, encoding=\"utf-8\").decode()\n",
    "\n",
    "    # Update the ref-xml attribute in the output data\n",
    "    output_item[\"ref_xml\"] = modified_ref_xml\n",
    "\n",
    "# Print the final updated ref-xml for each item in the output data\n",
    "for output_item in output_data:\n",
    "    print(output_item[\"ref_xml\"])\n"
   ]
  },
  {
   "cell_type": "code",
   "execution_count": 3,
   "metadata": {},
   "outputs": [
    {
     "ename": "OSError",
     "evalue": "no library called \"cairo-2\" was found\nno library called \"cairo\" was found\nno library called \"libcairo-2\" was found\ncannot load library 'libcairo.so.2': dlopen(libcairo.so.2, 0x0002): tried: 'libcairo.so.2' (no such file), '/System/Volumes/Preboot/Cryptexes/OSlibcairo.so.2' (no such file), '/usr/lib/libcairo.so.2' (no such file, not in dyld cache), 'libcairo.so.2' (no such file), '/usr/lib/libcairo.so.2' (no such file, not in dyld cache).  Additionally, ctypes.util.find_library() did not manage to locate a library called 'libcairo.so.2'\ncannot load library 'libcairo.2.dylib': dlopen(libcairo.2.dylib, 0x0002): tried: 'libcairo.2.dylib' (no such file), '/System/Volumes/Preboot/Cryptexes/OSlibcairo.2.dylib' (no such file), '/usr/lib/libcairo.2.dylib' (no such file, not in dyld cache), 'libcairo.2.dylib' (no such file), '/usr/lib/libcairo.2.dylib' (no such file, not in dyld cache).  Additionally, ctypes.util.find_library() did not manage to locate a library called 'libcairo.2.dylib'\ncannot load library 'libcairo-2.dll': dlopen(libcairo-2.dll, 0x0002): tried: 'libcairo-2.dll' (no such file), '/System/Volumes/Preboot/Cryptexes/OSlibcairo-2.dll' (no such file), '/usr/lib/libcairo-2.dll' (no such file, not in dyld cache), 'libcairo-2.dll' (no such file), '/usr/lib/libcairo-2.dll' (no such file, not in dyld cache).  Additionally, ctypes.util.find_library() did not manage to locate a library called 'libcairo-2.dll'",
     "output_type": "error",
     "traceback": [
      "\u001b[0;31m---------------------------------------------------------------------------\u001b[0m",
      "\u001b[0;31mOSError\u001b[0m                                   Traceback (most recent call last)",
      "\u001b[1;32m/Users/senthil/Desktop/Senthil/my_testing/python_scripts/testing/temp_testing.ipynb Cell 4\u001b[0m line \u001b[0;36m1\n\u001b[0;32m----> <a href='vscode-notebook-cell:/Users/senthil/Desktop/Senthil/my_testing/python_scripts/testing/temp_testing.ipynb#W3sZmlsZQ%3D%3D?line=0'>1</a>\u001b[0m \u001b[39mimport\u001b[39;00m \u001b[39mcairosvg\u001b[39;00m\n\u001b[1;32m      <a href='vscode-notebook-cell:/Users/senthil/Desktop/Senthil/my_testing/python_scripts/testing/temp_testing.ipynb#W3sZmlsZQ%3D%3D?line=2'>3</a>\u001b[0m \u001b[39m# input_file = \"/Users/senthil/Downloads/paint_color_samples_icons_flat_circles_isolation_6828700/Paint 02.eps\"\u001b[39;00m\n\u001b[1;32m      <a href='vscode-notebook-cell:/Users/senthil/Desktop/Senthil/my_testing/python_scripts/testing/temp_testing.ipynb#W3sZmlsZQ%3D%3D?line=3'>4</a>\u001b[0m \u001b[39m# output_file = \"/Users/senthil/Downloads/paint_color_samples_icons_flat_circles_isolation_6828700/Paint 02.tiff\"\u001b[39;00m\n\u001b[1;32m      <a href='vscode-notebook-cell:/Users/senthil/Desktop/Senthil/my_testing/python_scripts/testing/temp_testing.ipynb#W3sZmlsZQ%3D%3D?line=4'>5</a>\u001b[0m \n\u001b[1;32m      <a href='vscode-notebook-cell:/Users/senthil/Desktop/Senthil/my_testing/python_scripts/testing/temp_testing.ipynb#W3sZmlsZQ%3D%3D?line=5'>6</a>\u001b[0m \u001b[39m# # Convert EPS to TIFF using cairosvg\u001b[39;00m\n\u001b[1;32m      <a href='vscode-notebook-cell:/Users/senthil/Desktop/Senthil/my_testing/python_scripts/testing/temp_testing.ipynb#W3sZmlsZQ%3D%3D?line=6'>7</a>\u001b[0m \u001b[39m# cairosvg.svg2png(url=input_file, write_to=output_file)\u001b[39;00m\n",
      "File \u001b[0;32m/Library/Frameworks/Python.framework/Versions/3.10/lib/python3.10/site-packages/cairosvg/__init__.py:26\u001b[0m\n\u001b[1;32m     22\u001b[0m VERSION \u001b[39m=\u001b[39m __version__ \u001b[39m=\u001b[39m (ROOT \u001b[39m/\u001b[39m \u001b[39m'\u001b[39m\u001b[39mVERSION\u001b[39m\u001b[39m'\u001b[39m)\u001b[39m.\u001b[39mread_text()\u001b[39m.\u001b[39mstrip()\n\u001b[1;32m     25\u001b[0m \u001b[39m# VERSION is used in the \"url\" module imported by \"surface\"\u001b[39;00m\n\u001b[0;32m---> 26\u001b[0m \u001b[39mfrom\u001b[39;00m \u001b[39m.\u001b[39;00m \u001b[39mimport\u001b[39;00m surface  \u001b[39m# noqa isort:skip\u001b[39;00m\n\u001b[1;32m     29\u001b[0m SURFACES \u001b[39m=\u001b[39m {\n\u001b[1;32m     30\u001b[0m     \u001b[39m'\u001b[39m\u001b[39mPDF\u001b[39m\u001b[39m'\u001b[39m: surface\u001b[39m.\u001b[39mPDFSurface,\n\u001b[1;32m     31\u001b[0m     \u001b[39m'\u001b[39m\u001b[39mPNG\u001b[39m\u001b[39m'\u001b[39m: surface\u001b[39m.\u001b[39mPNGSurface,\n\u001b[0;32m   (...)\u001b[0m\n\u001b[1;32m     34\u001b[0m     \u001b[39m'\u001b[39m\u001b[39mSVG\u001b[39m\u001b[39m'\u001b[39m: surface\u001b[39m.\u001b[39mSVGSurface,\n\u001b[1;32m     35\u001b[0m }\n\u001b[1;32m     38\u001b[0m \u001b[39mdef\u001b[39;00m \u001b[39msvg2svg\u001b[39m(bytestring\u001b[39m=\u001b[39m\u001b[39mNone\u001b[39;00m, \u001b[39m*\u001b[39m, file_obj\u001b[39m=\u001b[39m\u001b[39mNone\u001b[39;00m, url\u001b[39m=\u001b[39m\u001b[39mNone\u001b[39;00m, dpi\u001b[39m=\u001b[39m\u001b[39m96\u001b[39m,\n\u001b[1;32m     39\u001b[0m             parent_width\u001b[39m=\u001b[39m\u001b[39mNone\u001b[39;00m, parent_height\u001b[39m=\u001b[39m\u001b[39mNone\u001b[39;00m, scale\u001b[39m=\u001b[39m\u001b[39m1\u001b[39m, unsafe\u001b[39m=\u001b[39m\u001b[39mFalse\u001b[39;00m,\n\u001b[1;32m     40\u001b[0m             background_color\u001b[39m=\u001b[39m\u001b[39mNone\u001b[39;00m, negate_colors\u001b[39m=\u001b[39m\u001b[39mFalse\u001b[39;00m, invert_images\u001b[39m=\u001b[39m\u001b[39mFalse\u001b[39;00m,\n\u001b[1;32m     41\u001b[0m             write_to\u001b[39m=\u001b[39m\u001b[39mNone\u001b[39;00m, output_width\u001b[39m=\u001b[39m\u001b[39mNone\u001b[39;00m, output_height\u001b[39m=\u001b[39m\u001b[39mNone\u001b[39;00m):\n",
      "File \u001b[0;32m/Library/Frameworks/Python.framework/Versions/3.10/lib/python3.10/site-packages/cairosvg/surface.py:9\u001b[0m\n\u001b[1;32m      6\u001b[0m \u001b[39mimport\u001b[39;00m \u001b[39mcopy\u001b[39;00m\n\u001b[1;32m      7\u001b[0m \u001b[39mimport\u001b[39;00m \u001b[39mio\u001b[39;00m\n\u001b[0;32m----> 9\u001b[0m \u001b[39mimport\u001b[39;00m \u001b[39mcairocffi\u001b[39;00m \u001b[39mas\u001b[39;00m \u001b[39mcairo\u001b[39;00m\n\u001b[1;32m     11\u001b[0m \u001b[39mfrom\u001b[39;00m \u001b[39m.\u001b[39;00m\u001b[39mcolors\u001b[39;00m \u001b[39mimport\u001b[39;00m color, negate_color\n\u001b[1;32m     12\u001b[0m \u001b[39mfrom\u001b[39;00m \u001b[39m.\u001b[39;00m\u001b[39mdefs\u001b[39;00m \u001b[39mimport\u001b[39;00m (\n\u001b[1;32m     13\u001b[0m     apply_filter_after_painting, apply_filter_before_painting, clip_path,\n\u001b[1;32m     14\u001b[0m     filter_, gradient_or_pattern, linear_gradient, marker, mask, paint_mask,\n\u001b[1;32m     15\u001b[0m     parse_all_defs, pattern, prepare_filter, radial_gradient, use)\n",
      "File \u001b[0;32m/Library/Frameworks/Python.framework/Versions/3.10/lib/python3.10/site-packages/cairocffi/__init__.py:47\u001b[0m\n\u001b[1;32m     42\u001b[0m     error_message \u001b[39m=\u001b[39m \u001b[39m'\u001b[39m\u001b[39m\\n\u001b[39;00m\u001b[39m'\u001b[39m\u001b[39m.\u001b[39mjoin(  \u001b[39m# pragma: no cover\u001b[39;00m\n\u001b[1;32m     43\u001b[0m         \u001b[39mstr\u001b[39m(exception) \u001b[39mfor\u001b[39;00m exception \u001b[39min\u001b[39;00m exceptions)\n\u001b[1;32m     44\u001b[0m     \u001b[39mraise\u001b[39;00m \u001b[39mOSError\u001b[39;00m(error_message)  \u001b[39m# pragma: no cover\u001b[39;00m\n\u001b[0;32m---> 47\u001b[0m cairo \u001b[39m=\u001b[39m dlopen(\n\u001b[1;32m     48\u001b[0m     ffi, (\u001b[39m'\u001b[39;49m\u001b[39mcairo-2\u001b[39;49m\u001b[39m'\u001b[39;49m, \u001b[39m'\u001b[39;49m\u001b[39mcairo\u001b[39;49m\u001b[39m'\u001b[39;49m, \u001b[39m'\u001b[39;49m\u001b[39mlibcairo-2\u001b[39;49m\u001b[39m'\u001b[39;49m),\n\u001b[1;32m     49\u001b[0m     (\u001b[39m'\u001b[39;49m\u001b[39mlibcairo.so.2\u001b[39;49m\u001b[39m'\u001b[39;49m, \u001b[39m'\u001b[39;49m\u001b[39mlibcairo.2.dylib\u001b[39;49m\u001b[39m'\u001b[39;49m, \u001b[39m'\u001b[39;49m\u001b[39mlibcairo-2.dll\u001b[39;49m\u001b[39m'\u001b[39;49m))\n\u001b[1;32m     52\u001b[0m \u001b[39mclass\u001b[39;00m \u001b[39m_keepref\u001b[39;00m(\u001b[39mobject\u001b[39m):\n\u001b[1;32m     53\u001b[0m \u001b[39m    \u001b[39m\u001b[39m\"\"\"Function wrapper that keeps a reference to another object.\"\"\"\u001b[39;00m\n",
      "File \u001b[0;32m/Library/Frameworks/Python.framework/Versions/3.10/lib/python3.10/site-packages/cairocffi/__init__.py:44\u001b[0m, in \u001b[0;36mdlopen\u001b[0;34m(ffi, library_names, filenames)\u001b[0m\n\u001b[1;32m     40\u001b[0m         exceptions\u001b[39m.\u001b[39mappend(exception)\n\u001b[1;32m     42\u001b[0m error_message \u001b[39m=\u001b[39m \u001b[39m'\u001b[39m\u001b[39m\\n\u001b[39;00m\u001b[39m'\u001b[39m\u001b[39m.\u001b[39mjoin(  \u001b[39m# pragma: no cover\u001b[39;00m\n\u001b[1;32m     43\u001b[0m     \u001b[39mstr\u001b[39m(exception) \u001b[39mfor\u001b[39;00m exception \u001b[39min\u001b[39;00m exceptions)\n\u001b[0;32m---> 44\u001b[0m \u001b[39mraise\u001b[39;00m \u001b[39mOSError\u001b[39;00m(error_message)\n",
      "\u001b[0;31mOSError\u001b[0m: no library called \"cairo-2\" was found\nno library called \"cairo\" was found\nno library called \"libcairo-2\" was found\ncannot load library 'libcairo.so.2': dlopen(libcairo.so.2, 0x0002): tried: 'libcairo.so.2' (no such file), '/System/Volumes/Preboot/Cryptexes/OSlibcairo.so.2' (no such file), '/usr/lib/libcairo.so.2' (no such file, not in dyld cache), 'libcairo.so.2' (no such file), '/usr/lib/libcairo.so.2' (no such file, not in dyld cache).  Additionally, ctypes.util.find_library() did not manage to locate a library called 'libcairo.so.2'\ncannot load library 'libcairo.2.dylib': dlopen(libcairo.2.dylib, 0x0002): tried: 'libcairo.2.dylib' (no such file), '/System/Volumes/Preboot/Cryptexes/OSlibcairo.2.dylib' (no such file), '/usr/lib/libcairo.2.dylib' (no such file, not in dyld cache), 'libcairo.2.dylib' (no such file), '/usr/lib/libcairo.2.dylib' (no such file, not in dyld cache).  Additionally, ctypes.util.find_library() did not manage to locate a library called 'libcairo.2.dylib'\ncannot load library 'libcairo-2.dll': dlopen(libcairo-2.dll, 0x0002): tried: 'libcairo-2.dll' (no such file), '/System/Volumes/Preboot/Cryptexes/OSlibcairo-2.dll' (no such file), '/usr/lib/libcairo-2.dll' (no such file, not in dyld cache), 'libcairo-2.dll' (no such file), '/usr/lib/libcairo-2.dll' (no such file, not in dyld cache).  Additionally, ctypes.util.find_library() did not manage to locate a library called 'libcairo-2.dll'"
     ]
    }
   ],
   "source": [
    "import cairosvg\n",
    "\n",
    "# input_file = \"/Users/senthil/Downloads/paint_color_samples_icons_flat_circles_isolation_6828700/Paint 02.eps\"\n",
    "# output_file = \"/Users/senthil/Downloads/paint_color_samples_icons_flat_circles_isolation_6828700/Paint 02.tiff\"\n",
    "\n",
    "# # Convert EPS to TIFF using cairosvg\n",
    "# cairosvg.svg2png(url=input_file, write_to=output_file)\n"
   ]
  }
 ],
 "metadata": {
  "kernelspec": {
   "display_name": "Python 3",
   "language": "python",
   "name": "python3"
  },
  "language_info": {
   "codemirror_mode": {
    "name": "ipython",
    "version": 3
   },
   "file_extension": ".py",
   "mimetype": "text/x-python",
   "name": "python",
   "nbconvert_exporter": "python",
   "pygments_lexer": "ipython3",
   "version": "3.10.11"
  },
  "orig_nbformat": 4
 },
 "nbformat": 4,
 "nbformat_minor": 2
}
