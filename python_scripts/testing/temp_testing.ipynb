{
 "cells": [
  {
   "cell_type": "code",
   "execution_count": 11,
   "metadata": {},
   "outputs": [
    {
     "name": "stderr",
     "output_type": "stream",
     "text": [
      "/var/folders/29/tqd3lhrd59x1bdpw9drsy6c00000gp/T/ipykernel_1672/1038497306.py:10: FutureWarning: The default value of regex will change from True to False in a future version.\n",
      "  data['Document'] = data['Document'].str.replace(r'\\W', ' ')  # Updated line\n",
      "/Library/Frameworks/Python.framework/Versions/3.10/lib/python3.10/site-packages/sklearn/linear_model/_logistic.py:458: ConvergenceWarning: lbfgs failed to converge (status=1):\n",
      "STOP: TOTAL NO. of ITERATIONS REACHED LIMIT.\n",
      "\n",
      "Increase the number of iterations (max_iter) or scale the data as shown in:\n",
      "    https://scikit-learn.org/stable/modules/preprocessing.html\n",
      "Please also refer to the documentation for alternative solver options:\n",
      "    https://scikit-learn.org/stable/modules/linear_model.html#logistic-regression\n",
      "  n_iter_i = _check_optimize_result(\n"
     ]
    }
   ],
   "source": [
    "import pandas as pd\n",
    "from sklearn.feature_extraction.text import CountVectorizer\n",
    "from sklearn.linear_model import LogisticRegression\n",
    "from sklearn.model_selection import train_test_split\n",
    "from sklearn.metrics import classification_report\n",
    "\n",
    "# Step 2: Load and Preprocess the Data\n",
    "data = pd.read_csv('/Users/senthil/Desktop/Senthil/myTesting/python_scripts/testing/training_data.csv')\n",
    "data['Document'] = data['Document'].str.lower()\n",
    "data['Document'] = data['Document'].str.replace(r'\\W', ' ')  # Updated line\n",
    "X = data['Document']\n",
    "y = data['Target']\n",
    "\n",
    "# Step 3: Feature Extraction\n",
    "vectorizer = CountVectorizer()\n",
    "X = vectorizer.fit_transform(X)\n",
    "\n",
    "# Step 4: Split the Data into Training and Testing Sets\n",
    "X_train, X_test, y_train, y_test = train_test_split(X, y, test_size=0.2, random_state=42)\n",
    "\n",
    "# Step 5: Train the Model\n",
    "clf = LogisticRegression()\n",
    "clf.fit(X_train, y_train)\n",
    "\n",
    "# Step 6: Evaluate the Model\n",
    "y_pred = clf.predict(X_test)\n",
    "# print(classification_report(y_test, y_pred))\n"
   ]
  },
  {
   "cell_type": "code",
   "execution_count": 46,
   "metadata": {},
   "outputs": [
    {
     "name": "stdout",
     "output_type": "stream",
     "text": [
      "Predicted Component Name: ['Chapter 4']\n"
     ]
    }
   ],
   "source": [
    "# Step 7: Predict with New Data\n",
    "new_data = ['06 Ch 5.docx']\n",
    "new_data = [name.lower().replace(r'\\W', ' ') for name in new_data]  # Updated line\n",
    "new_data = vectorizer.transform(new_data)\n",
    "predictions = clf.predict(new_data)\n",
    "\n",
    "print(f\"Predicted Component Name: {predictions}\")\n",
    "# for doc, pred in zip(new_data, predictions):\n",
    "#     print(f\"Document: {doc}  Prediction: {pred}\")\n"
   ]
  }
 ],
 "metadata": {
  "kernelspec": {
   "display_name": "Python 3",
   "language": "python",
   "name": "python3"
  },
  "language_info": {
   "codemirror_mode": {
    "name": "ipython",
    "version": 3
   },
   "file_extension": ".py",
   "mimetype": "text/x-python",
   "name": "python",
   "nbconvert_exporter": "python",
   "pygments_lexer": "ipython3",
   "version": "3.10.7"
  },
  "orig_nbformat": 4
 },
 "nbformat": 4,
 "nbformat_minor": 2
}
