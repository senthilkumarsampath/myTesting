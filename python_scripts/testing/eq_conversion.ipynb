{
 "cells": [
  {
   "cell_type": "code",
   "execution_count": 8,
   "metadata": {},
   "outputs": [
    {
     "name": "stdout",
     "output_type": "stream",
     "text": [
      "Tearting \n"
     ]
    }
   ],
   "source": [
    "from docx import Document\n",
    "from lxml import etree\n",
    "\n",
    "# Open the .docx file\n",
    "document = Document(\"eq_testing.docx\")\n",
    "\n",
    "# Extract the equations from the .docx file\n",
    "equations = []\n",
    "for p in document.paragraphs:\n",
    "    print(p.text)\n",
    "    for run in p.runs:\n",
    "        for equation in run._element.xpath('.//m:oMath'):\n",
    "            equations.append(etree.tostring(equation, pretty_print=True))\n",
    "            print(equations)\n",
    "\n",
    "# The equations list will now contain the equations in MathML format\n",
    "root = etree.Element(\"equations\")\n",
    "for eq in equations:\n",
    "    eq_node = etree.fromstring(eq)\n",
    "    root.append(eq_node)\n",
    "tree = etree.ElementTree(root)\n",
    "tree.write(\"output.xml\", pretty_print=True, xml_declaration=True, encoding='UTF-8')\n"
   ]
  }
 ],
 "metadata": {
  "kernelspec": {
   "display_name": "Python 3",
   "language": "python",
   "name": "python3"
  },
  "language_info": {
   "codemirror_mode": {
    "name": "ipython",
    "version": 3
   },
   "file_extension": ".py",
   "mimetype": "text/x-python",
   "name": "python",
   "nbconvert_exporter": "python",
   "pygments_lexer": "ipython3",
   "version": "3.10.7"
  },
  "orig_nbformat": 4,
  "vscode": {
   "interpreter": {
    "hash": "aee8b7b246df8f9039afb4144a1f6fd8d2ca17a180786b69acc140d282b71a49"
   }
  }
 },
 "nbformat": 4,
 "nbformat_minor": 2
}
