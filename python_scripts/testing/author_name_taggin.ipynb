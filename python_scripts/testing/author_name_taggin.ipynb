{
 "cells": [
  {
   "cell_type": "code",
   "execution_count": null,
   "metadata": {},
   "outputs": [],
   "source": [
    "import docx\n",
    "from nltk import word_tokenize, pos_tag\n",
    "from nltk.corpus import stopwords\n",
    "\n",
    "# open the Word document\n",
    "doc = docx.Document(\"RL_08_WOLI_C001.docx\")\n",
    "\n",
    "# initialize list to store names\n",
    "names = []\n",
    "\n",
    "# iterate through paragraphs in the document\n",
    "for para in doc.paragraphs:\n",
    "    # tokenize the text in the paragraph\n",
    "    tokens = word_tokenize(para.text)\n",
    "    # tag the tokens with their parts of speech\n",
    "    tagged = pos_tag(tokens)\n",
    "    # iterate through the tagged tokens\n",
    "    for token in tagged:\n",
    "        # check if the token is a proper noun\n",
    "        if token[1] == \"NNP\":\n",
    "            # check if the token is not a stop word\n",
    "            if token[0] not in stopwords.words(\"english\"):\n",
    "                # add the token to the list of names\n",
    "                names.append(token[0])\n",
    "\n",
    "# iterate through runs in the document\n",
    "for run in doc.runs:\n",
    "    # iterate through the names in the list\n",
    "    for name in names:\n",
    "        # check if the name is in the run text\n",
    "        if name in run.text:\n",
    "            # change the font color of the name\n",
    "            run.font.color.rgb = docx.shared.RGBColor(255, 0, 0)\n",
    "            # add a highlight to the name\n",
    "            run.font.highlight_color = docx.shared.HexColor(\"FFFF00\")\n",
    "\n",
    "# save the document\n",
    "doc.save(\"RL_08_WOLI_C001_author_names.docx\")\n"
   ]
  },
  {
   "cell_type": "code",
   "execution_count": null,
   "metadata": {},
   "outputs": [],
   "source": [
    "import spacy\n",
    "from spacy.matcher import Matcher\n",
    "from spacy.tokens import Span\n",
    "import docx\n",
    "\n",
    "# Load the spaCy model\n",
    "nlp = spacy.load(\"en_core_web_sm\")\n",
    "\n",
    "# Read the input Word document\n",
    "doc = docx.Document(\"RL_08_WOLI_C001.docx\")\n",
    "\n",
    "# Create an empty list to store the named entities\n",
    "ents = []\n",
    "\n",
    "# Iterate over the paragraphs in the input document\n",
    "for para in doc.paragraphs:\n",
    "    # Process the text of the paragraph using spaCy\n",
    "    doc = nlp(para.text)\n",
    "    # Iterate over the entities in the processed text\n",
    "    for ent in doc.ents:\n",
    "        # Add the entity to the list\n",
    "        ents.append(ent.text)\n",
    "\n",
    "# Create a new Word document to store the named entities\n",
    "output_doc = docx.Document()\n",
    "\n",
    "# Write the named entities to the output document\n",
    "for ent in ents:\n",
    "    output_doc.add_paragraph(ent)\n",
    "\n",
    "# Save the output document\n",
    "output_doc.save(\"output.docx\")\n"
   ]
  },
  {
   "cell_type": "code",
   "execution_count": null,
   "metadata": {},
   "outputs": [],
   "source": [
    "import spacy\n",
    "nlp = spacy.load(\"en_core_web_sm\")\n"
   ]
  }
 ],
 "metadata": {
  "kernelspec": {
   "display_name": "Python 3",
   "language": "python",
   "name": "python3"
  },
  "language_info": {
   "codemirror_mode": {
    "name": "ipython",
    "version": 3
   },
   "file_extension": ".py",
   "mimetype": "text/x-python",
   "name": "python",
   "nbconvert_exporter": "python",
   "pygments_lexer": "ipython3",
   "version": "3.10.7 (v3.10.7:6cc6b13308, Sep  5 2022, 14:02:52) [Clang 13.0.0 (clang-1300.0.29.30)]"
  },
  "orig_nbformat": 4,
  "vscode": {
   "interpreter": {
    "hash": "aee8b7b246df8f9039afb4144a1f6fd8d2ca17a180786b69acc140d282b71a49"
   }
  }
 },
 "nbformat": 4,
 "nbformat_minor": 2
}
