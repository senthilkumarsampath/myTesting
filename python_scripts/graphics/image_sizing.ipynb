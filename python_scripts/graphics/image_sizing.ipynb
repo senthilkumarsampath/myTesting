{
 "cells": [
  {
   "cell_type": "code",
   "execution_count": 31,
   "metadata": {},
   "outputs": [
    {
     "name": "stderr",
     "output_type": "stream",
     "text": [
      "/var/folders/29/tqd3lhrd59x1bdpw9drsy6c00000gp/T/ipykernel_4312/2293660584.py:15: DeprecationWarning: LANCZOS is deprecated and will be removed in Pillow 10 (2023-07-01). Use Resampling.LANCZOS instead.\n",
      "  im_resized = im.resize((new_width, new_height), resample=Image.LANCZOS)\n"
     ]
    }
   ],
   "source": [
    "from PIL import Image\n",
    "\n",
    "# Open an image file\n",
    "with Image.open('/Users/senthil/Desktop/Senthil/myTesting/python_scripts/graphics/F05_001.tif') as im:\n",
    "  # Get the original image size\n",
    "  width, height = im.size\n",
    "  # Calculate the new image size, maintaining the aspect ratio\n",
    "  new_width = 864\n",
    "  new_height = 1382\n",
    "  if width > height:\n",
    "    new_height = int(height * (new_width / width))\n",
    "  else:\n",
    "    new_width = int(width * (new_height / height))\n",
    "  # Resize the image\n",
    "  # im_resized = im.resize((new_width, new_height), resample=Image.LANCZOS)\n",
    "  # Save the resized image\n",
    "  # im_resized.save('/Users/senthil/Desktop/Senthil/myTesting/images/Figure_12.1_output.jpg')\n"
   ]
  },
  {
   "cell_type": "code",
   "execution_count": 1,
   "metadata": {},
   "outputs": [
    {
     "ename": "ModuleNotFoundError",
     "evalue": "No module named 'PIL'",
     "output_type": "error",
     "traceback": [
      "\u001b[0;31m---------------------------------------------------------------------------\u001b[0m",
      "\u001b[0;31mModuleNotFoundError\u001b[0m                       Traceback (most recent call last)",
      "Cell \u001b[0;32mIn[1], line 1\u001b[0m\n\u001b[0;32m----> 1\u001b[0m \u001b[39mfrom\u001b[39;00m \u001b[39mPIL\u001b[39;00m \u001b[39mimport\u001b[39;00m Image\n\u001b[1;32m      3\u001b[0m img_dim_width \u001b[39m=\u001b[39m \u001b[39m324\u001b[39m\n\u001b[1;32m      4\u001b[0m img_dim_height\u001b[39m=\u001b[39m \u001b[39m521\u001b[39m\n",
      "\u001b[0;31mModuleNotFoundError\u001b[0m: No module named 'PIL'"
     ]
    }
   ],
   "source": [
    "from PIL import Image\n",
    "\n",
    "img_dim_width = 324\n",
    "img_dim_height= 521\n",
    "\n",
    "percentage_diff = 4.17\n",
    "\n",
    "img_file = Image.open(\"/Users/senthil/Desktop/Senthil/my_testing/python_scripts/graphics/F02-001.tif\")\n",
    "mode = img_file.mode\n",
    "\n",
    "print(img_file.format)\n",
    "width, height = img_file.size\n",
    "width,height = float(width),float(height)\n",
    "# new_width = int(width-(width*(100-(img_dim_width/(width/diff_perc)*100))/100))\n",
    "# new_height = int(height-(height*(100-(img_dim_height/(width/diff_perc)*100))/100))\n",
    "\n",
    "new_width = float(width-(width*(100-(img_dim_width/(width/percentage_diff)*100))/100))\n",
    "new_height = float(height-(height*(100-(img_dim_height/(height/percentage_diff)*100))/100))\n",
    "\n",
    "\n",
    "# new_width = float(float(width)-(float(width)*(100.0-(width/(float(width)/percentage_diff)*100.0))/100.0))\n",
    "# new_height = float(float(height)-(float(height)*(100.0-(height/(float(height)/percentage_diff)*100.0))/100.0))\n",
    "\n",
    "print(f\"old width: \"+str(width)+\"; new width: \"+str(new_width))\n",
    "print(f\"old height: \"+str(height)+\"; new height: \"+str(new_height))\n",
    "\n",
    "# print(new_width)\n",
    "img_file.thumbnail((new_width,new_height),Image.Resampling.LANCZOS)\n",
    "img_file.save(\"/Users/senthil/Desktop/Senthil/myTesting/python_scripts/graphics/F05_001.tif\")\n",
    "# print(img_file.size)\n",
    "# print(img_file.format)\n",
    "print(f\"Mode: {mode}\")\n",
    "\n",
    " \n"
   ]
  },
  {
   "cell_type": "code",
   "execution_count": 2,
   "metadata": {},
   "outputs": [
    {
     "name": "stdout",
     "output_type": "stream",
     "text": [
      "TIFF\n",
      "old width: 1323; new width: 1267.8309\n",
      "old height: 735; new height: 704.3505\n",
      "Mode: L\n"
     ]
    }
   ],
   "source": [
    "from PIL import Image\n",
    "img_file = Image.open(\"/Users/senthil/Desktop/Senthil/myTesting/python_scripts/graphics/F05_001.tif\")\n",
    "mode = img_file.mode\n",
    "print(img_file.format)\n",
    "width, height = img_file.size\n",
    "percentage_diff = 4.17\n",
    "new_width = width - (width*percentage_diff/100)\n",
    "new_height = height - (height* percentage_diff/100)\n",
    "print(f\"old width: \"+str(width)+\"; new width: \"+str(new_width))\n",
    "print(f\"old height: \"+str(height)+\"; new height: \"+str(new_height))\n",
    "img_file.thumbnail((new_width,new_height),Image.Resampling.LANCZOS)\n",
    "img_file.save(\"/Users/senthil/Desktop/Senthil/myTesting/python_scripts/graphics/F05_001_resized.tif\")\n",
    "img_file.close()\n",
    "print(f\"Mode: {mode}\")\n"
   ]
  },
  {
   "cell_type": "code",
   "execution_count": null,
   "metadata": {},
   "outputs": [],
   "source": [
    "import docx\n",
    "\n",
    "def read_docx(filename):\n",
    "  # Open the .docx file\n",
    "  doc = docx.Document(filename)\n",
    "\n",
    "  # Create a new .docx file\n",
    "  new_doc = docx.Document()\n",
    "\n",
    "  # Iterate over the paragraphs in the document\n",
    "  for para in doc.paragraphs:\n",
    "    # Create a new paragraph\n",
    "    new_para = new_doc.add_paragraph()\n",
    "\n",
    "    # Iterate over the runs in the paragraph\n",
    "    for run in para.runs:\n",
    "      # Create a new run with the text of the original run\n",
    "      new_run = new_para.add_run(run.text)\n",
    "\n",
    "      # Set all the formatting properties of the new run to the same as the original run\n",
    "      new_run.bold = run.bold\n",
    "      new_run.italic = run.italic\n",
    "      new_run.strike = run.strike\n",
    "      new_run.double_strike = run.double_strike\n",
    "      new_run.subscript = run.subscript\n",
    "      new_run.superscript = run.superscript\n",
    "      new_run.underline = run.underline\n",
    "      # new_run.all_caps = run.all_caps\n",
    "      # new_run.small_caps = run.small_caps\n",
    "      # new_run.capitalized = run.capitalized\n",
    "\n",
    "  # Save the new .docx file\n",
    "  new_doc.save('new_doc.docx')\n",
    "\n",
    "  \n",
    "read_docx(\"TNF_01_322406_C001.docx\")\n"
   ]
  },
  {
   "cell_type": "code",
   "execution_count": null,
   "metadata": {},
   "outputs": [],
   "source": [
    "from PIL import Image\n",
    "\n",
    "img_dim = (432, 691)\n",
    "\n",
    "im = Image.open(\"/Users/senthil/Desktop/Senthil/myTesting/images/Figure_12.1.tif\")\n",
    "im.thumbnail(img_dim)\n",
    "im.save(\"/Users/senthil/Desktop/Senthil/myTesting/images/Figure_12.1_resized.tif\",quality=95)"
   ]
  },
  {
   "cell_type": "code",
   "execution_count": 35,
   "metadata": {},
   "outputs": [
    {
     "name": "stdout",
     "output_type": "stream",
     "text": [
      "\n"
     ]
    }
   ],
   "source": [
    "from PIL import Image\n",
    "from PIL.ExifTags import TAGS\n",
    "\n",
    "def print_exif_data(exif_data):\n",
    "    for tag_id in exif_data:\n",
    "        tag = TAGS.get(tag_id, tag_id)\n",
    "        content = exif_data.get(tag_id)\n",
    "        print(f'{tag:25}: {content}')\n",
    "\n",
    "with Image.open(\"/Users/senthil/Desktop/Senthil/myTesting/images/Figure_2.1_thumbnail_sized.jpeg\") as im:\n",
    "    exif = im.getexif()\n",
    "    \n",
    "    print_exif_data(exif)\n",
    "    print()\n",
    "    print_exif_data(exif.get_ifd(0x8769))"
   ]
  },
  {
   "cell_type": "code",
   "execution_count": 4,
   "metadata": {},
   "outputs": [
    {
     "name": "stdout",
     "output_type": "stream",
     "text": [
      "TIFF\n",
      "old width: 1031; new width: 1551\n",
      "old height: 494; new height: 1094\n",
      "Mode: RGB\n"
     ]
    }
   ],
   "source": [
    "from PIL import Image\n",
    "\n",
    "img_dim_width = 372\n",
    "img_dim_height= 548\n",
    "\n",
    "diff_perc = 4.17\n",
    "\n",
    "img_file = Image.open(\"/Users/senthil/Downloads/project/MS Files/Figure 8.6.tiff\")\n",
    "mode = img_file.mode\n",
    "\n",
    "print(img_file.format)\n",
    "width, height = img_file.size\n",
    "new_width = int(width-(width*(100-(img_dim_width/(width/diff_perc)*100))/100))\n",
    "new_height = int(height-(height*(100-(img_dim_height/(width/diff_perc)*100))/100))\n",
    "\n",
    "print(f\"old width: \"+str(width)+\"; new width: \"+str(new_width))\n",
    "print(f\"old height: \"+str(height)+\"; new height: \"+str(new_height))\n",
    "\n",
    "# print(new_width)\n",
    "img_file.thumbnail((new_width,new_height),Image.Resampling.BICUBIC)\n",
    "img_file.save(\"/Users/senthil/Downloads/project/MS Files/Figure 8.6_new1.jpg\")\n",
    "\n",
    "# print(img_file.size)\n",
    "# print(img_file.format)\n",
    "print(f\"Mode: {mode}\")\n"
   ]
  },
  {
   "cell_type": "code",
   "execution_count": 1,
   "metadata": {},
   "outputs": [
    {
     "name": "stdout",
     "output_type": "stream",
     "text": [
      "Conversion complete.\n"
     ]
    }
   ],
   "source": [
    "import os\n",
    "from PIL import Image\n",
    "\n",
    "# Input and output folder paths\n",
    "input_folder = \"/Users/senthil/Downloads/252814\"\n",
    "output_folder = \"/Users/senthil/Downloads/252814\"\n",
    "\n",
    "# Ensure the output folder exists\n",
    "os.makedirs(output_folder, exist_ok=True)\n",
    "\n",
    "# Loop through all files in the input folder\n",
    "for filename in os.listdir(input_folder):\n",
    "    if filename.endswith(\".tiff\") or filename.endswith(\".tif\"):\n",
    "        # Open the TIFF image\n",
    "        with Image.open(os.path.join(input_folder, filename)) as img:\n",
    "            # Convert to JPG with DPI=300\n",
    "            img = img.convert(\"RGB\")\n",
    "            img.save(\n",
    "                os.path.join(output_folder, f\"{os.path.splitext(filename)[0]}.jpg\"),\n",
    "                dpi=(300, 300),\n",
    "            )\n",
    "\n",
    "print(\"Conversion complete.\")\n"
   ]
  },
  {
   "cell_type": "code",
   "execution_count": 6,
   "metadata": {},
   "outputs": [
    {
     "name": "stdout",
     "output_type": "stream",
     "text": [
      "Processing complete.\n"
     ]
    }
   ],
   "source": [
    "from PIL import Image\n",
    "import os\n",
    "\n",
    "img_dim_width = 372\n",
    "img_dim_height = 548\n",
    "diff_perc = 4.17\n",
    "\n",
    "input_folder = \"/Users/senthil/Downloads/KC1/252870_Graphics_Processing\"\n",
    "output_folder = \"/Users/senthil/Downloads/KC1/252870_Graphics_Processing/Resized/\"\n",
    "\n",
    "# Create the output folder if it doesn't exist\n",
    "if not os.path.exists(output_folder):\n",
    "    os.makedirs(output_folder)\n",
    "\n",
    "# Iterate through all files in the input folder\n",
    "for filename in os.listdir(input_folder):\n",
    "    if filename.endswith(\".jpeg\") or filename.endswith(\".jpg\"):\n",
    "        input_path = os.path.join(input_folder, filename)\n",
    "        output_path = os.path.join(output_folder, filename.replace(\".jpeg\", \"_new.jpeg\").replace(\".jpg\", \"_new.jpg\"))\n",
    "\n",
    "        img_file = Image.open(input_path)\n",
    "        mode = img_file.mode\n",
    "\n",
    "        width, height = img_file.size\n",
    "        new_width = int(width - (width * (100 - (img_dim_width / (width / diff_perc) * 100)) / 100))\n",
    "        new_height = int(height - (height * (100 - (img_dim_height / (width / diff_perc) * 100)) / 100))\n",
    "\n",
    "        # print(f\"Processing: {filename}\")\n",
    "        # print(f\"Old width: {width}; New width: {new_width}\")\n",
    "        # print(f\"Old height: {height}; New height: {new_height}\")\n",
    "\n",
    "        img_file.thumbnail((new_width, new_height), Image.Resampling.BICUBIC)\n",
    "        img_file.save(output_path, dpi=(300, 300))\n",
    "\n",
    "        # print(f\"Mode: {mode}\")\n",
    "        # print(f\"Saved as: {output_path}\\n\")\n",
    "\n",
    "print(\"Processing complete.\")\n"
   ]
  }
 ],
 "metadata": {
  "kernelspec": {
   "display_name": "Python 3.10.7 64-bit",
   "language": "python",
   "name": "python3"
  },
  "language_info": {
   "codemirror_mode": {
    "name": "ipython",
    "version": 3
   },
   "file_extension": ".py",
   "mimetype": "text/x-python",
   "name": "python",
   "nbconvert_exporter": "python",
   "pygments_lexer": "ipython3",
   "version": "3.10.11"
  },
  "orig_nbformat": 4,
  "vscode": {
   "interpreter": {
    "hash": "aee8b7b246df8f9039afb4144a1f6fd8d2ca17a180786b69acc140d282b71a49"
   }
  }
 },
 "nbformat": 4,
 "nbformat_minor": 2
}
