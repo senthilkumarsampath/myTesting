{
 "cells": [
  {
   "cell_type": "code",
   "execution_count": 18,
   "metadata": {},
   "outputs": [],
   "source": [
    "from docx import Document\n",
    "from docx.enum.text import WD_ALIGN_PARAGRAPH\n",
    "from docx.shared import Inches\n",
    "\n",
    "# Open the Word document\n",
    "doc = Document('/Users/senthil/Desktop/Senthil/myTesting/python_scripts/graphics/MACPHERSON_20e_9781399514644_interior copy.docx')\n",
    "\n",
    "# Define the indent threshold in inches\n",
    "inch_threshold = 0.4\n",
    "\n",
    "# Iterate through all paragraphs\n",
    "for para in doc.paragraphs:\n",
    "    # Check if the paragraph has a left indent and if it is greater than the threshold\n",
    "    if para.alignment == WD_ALIGN_PARAGRAPH.LEFT and para.paragraph_format.left_indent is not None and para.paragraph_format.left_indent > Inches(inch_threshold):\n",
    "        # Apply the Heading 2 style\n",
    "        para.style = 'Heading 2'\n",
    "\n",
    "# Save the document\n",
    "doc.save('example_output.docx')\n"
   ]
  }
 ],
 "metadata": {
  "kernelspec": {
   "display_name": "Python 3",
   "language": "python",
   "name": "python3"
  },
  "language_info": {
   "codemirror_mode": {
    "name": "ipython",
    "version": 3
   },
   "file_extension": ".py",
   "mimetype": "text/x-python",
   "name": "python",
   "nbconvert_exporter": "python",
   "pygments_lexer": "ipython3",
   "version": "3.10.7"
  },
  "orig_nbformat": 4
 },
 "nbformat": 4,
 "nbformat_minor": 2
}
