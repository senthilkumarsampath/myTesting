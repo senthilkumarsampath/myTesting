{
 "cells": [
  {
   "cell_type": "code",
   "execution_count": null,
   "metadata": {},
   "outputs": [],
   "source": [
    "import docx\n",
    "from docx.shared import Inches\n",
    "from tabulate import tabulate\n",
    "\n",
    "# Open the word document\n",
    "doc = docx.Document(\"Chapter 3.docx\")\n",
    "\n",
    "# Iterate through all tables in the document\n",
    "em = 2048\n",
    "average_char_width = 6.5\n",
    "\n",
    "for i, table in enumerate(doc.tables):\n",
    "    print(\"Table\", i+1)\n",
    "    column_count = len(table._element.xpath('.//w:gridCol'))\n",
    "    print(\"Number of Columns: \", column_count)\n",
    "    data = []\n",
    "    # Iterate through all columns in the table\n",
    "\n",
    "    for j in range(column_count):\n",
    "        column_text = []\n",
    "        for row in table.rows:\n",
    "            if j < len(row.cells):\n",
    "                cell_text = row.cells[j].text\n",
    "                if cell_text != \"\":\n",
    "                    column_text.append(cell_text)\n",
    "\n",
    "        average_chars = int(sum(len(x) for x in column_text) / len(column_text))\n",
    "        min_chars = min(len(x) for x in column_text)\n",
    "        max_chars = max(len(x) for x in column_text)\n",
    "\n",
    "        width_pt = table.columns[j].width / 12700\n",
    "        no_of_rows = len(table.rows)\n",
    "        count_rows_above_min_max = 0\n",
    "\n",
    "        less_than_avg = 0\n",
    "        greater_than_avg = 0\n",
    "        for text in column_text:\n",
    "            if len(text) < average_chars:\n",
    "                less_than_avg += 1\n",
    "            elif len(text) > average_chars:\n",
    "                greater_than_avg += 1\n",
    "\n",
    "        for row in table.rows:\n",
    "            if all(cell.text == \"\" for cell in row.cells):\n",
    "                continue\n",
    "            if all(min_chars <= len(cell.text) <= max_chars for cell in row.cells):\n",
    "                count_rows_above_min_max += 1\n",
    "                \n",
    "      \n",
    "        if less_than_avg > greater_than_avg:\n",
    "            new_width = average_chars * average_char_width\n",
    "        else:\n",
    "            new_width = average_chars * average_char_width\n",
    "\n",
    "        breaking_point = max(less_than_avg, greater_than_avg)\n",
    "\n",
    "               \n",
    "        data.append([\"Column \"+str(j+1),width_pt,no_of_rows,average_chars,min_chars,max_chars,less_than_avg,greater_than_avg,breaking_point, new_width])\n",
    "    print(tabulate(data, headers=[\"Columns\", \"Width\", \"Rows\",\"Avg_Chars\", \"Min_Chars\", \"Max_Chars\",\"R<Avg.\",\"R>Avg.\",\"BR\",\"New_Width\"],tablefmt=\"fancy_grid\"))\n"
   ]
  }
 ],
 "metadata": {
  "kernelspec": {
   "display_name": "Python 3",
   "language": "python",
   "name": "python3"
  },
  "language_info": {
   "name": "python",
   "version": "3.10.7 (v3.10.7:6cc6b13308, Sep  5 2022, 14:02:52) [Clang 13.0.0 (clang-1300.0.29.30)]"
  },
  "orig_nbformat": 4,
  "vscode": {
   "interpreter": {
    "hash": "aee8b7b246df8f9039afb4144a1f6fd8d2ca17a180786b69acc140d282b71a49"
   }
  }
 },
 "nbformat": 4,
 "nbformat_minor": 2
}
