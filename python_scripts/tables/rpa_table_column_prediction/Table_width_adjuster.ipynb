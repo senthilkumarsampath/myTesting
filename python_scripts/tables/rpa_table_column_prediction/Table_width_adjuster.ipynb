{
 "cells": [
  {
   "attachments": {},
   "cell_type": "markdown",
   "metadata": {},
   "source": [
    "### First draft version of table width adjustment"
   ]
  },
  {
   "cell_type": "code",
   "execution_count": 14,
   "metadata": {},
   "outputs": [
    {
     "ename": "TypeError",
     "evalue": "'Table' object is not subscriptable",
     "output_type": "error",
     "traceback": [
      "\u001b[0;31m---------------------------------------------------------------------------\u001b[0m",
      "\u001b[0;31mTypeError\u001b[0m                                 Traceback (most recent call last)",
      "Cell \u001b[0;32mIn [14], line 68\u001b[0m\n\u001b[1;32m     64\u001b[0m     doc\u001b[39m.\u001b[39msave(\u001b[39m\"\u001b[39m\u001b[39m/Users/senthil/Desktop/Senthil/myTesting/python_scripts/Table_width_adjusment/Chapter 3_updated.docx\u001b[39m\u001b[39m\"\u001b[39m)\n\u001b[1;32m     66\u001b[0m path\u001b[39m=\u001b[39m\u001b[39m\"\u001b[39m\u001b[39m/Users/senthil/Desktop/Senthil/myTesting/python_scripts/Table_width_adjusment/Chapter 3.docx\u001b[39m\u001b[39m\"\u001b[39m\n\u001b[0;32m---> 68\u001b[0m adjust_table_width(path)\n",
      "Cell \u001b[0;32mIn [14], line 59\u001b[0m, in \u001b[0;36madjust_table_width\u001b[0;34m(path)\u001b[0m\n\u001b[1;32m     57\u001b[0m \u001b[39mfor\u001b[39;00m table \u001b[39min\u001b[39;00m tables:\n\u001b[1;32m     58\u001b[0m     updated_table \u001b[39m=\u001b[39m adjust_column_width(table)\n\u001b[0;32m---> 59\u001b[0m     width \u001b[39m=\u001b[39m updated_table[\u001b[39m1\u001b[39;49m]\n\u001b[1;32m     60\u001b[0m     \u001b[39mif\u001b[39;00m width:\n\u001b[1;32m     61\u001b[0m         \u001b[39mfor\u001b[39;00m i, w \u001b[39min\u001b[39;00m \u001b[39menumerate\u001b[39m(width):\n",
      "\u001b[0;31mTypeError\u001b[0m: 'Table' object is not subscriptable"
     ]
    }
   ],
   "source": [
    "import docx\n",
    "import pandas as pd\n",
    "import math\n",
    "\n",
    "def adjust_column_width(table):\n",
    "    \"\"\"\n",
    "    Function to adjust the column widths of a table based on the word count of the cells\n",
    "    \"\"\"\n",
    "    # Get the number of rows and columns in the table\n",
    "    rows = len(table.rows)\n",
    "    cols = len(table.columns)\n",
    "\n",
    "    # Initialize an empty data structure to store the word count\n",
    "    word_count = {}\n",
    "\n",
    "    # Initialize the word count for this table\n",
    "    word_count[table] = {}\n",
    "\n",
    "    # Iterate through each row and column\n",
    "    for row in range(rows):\n",
    "        for col in range(cols):\n",
    "            # Get the cell text\n",
    "            cell_text = table.cell(row, col).text\n",
    "\n",
    "            # Update the word count for this cell\n",
    "            if row not in word_count[table]:\n",
    "                word_count[table][row] = {}\n",
    "            if col not in word_count[table][row]:\n",
    "                word_count[table][row][col] = 0\n",
    "            word_count[table][row][col] += len(cell_text.split())\n",
    "\n",
    "    # Convert the word count data to a pandas DataFrame\n",
    "    df = pd.DataFrame(word_count[table])\n",
    "\n",
    "    # Calculate the appropriate column widths based on the word count\n",
    "    col_widths = df.sum(axis=0) / df.count(axis=0) * 2\n",
    "\n",
    "    # Update the column widths in the original table\n",
    "    for i, width in enumerate(col_widths):\n",
    "        try:\n",
    "            table.columns[i].width = math.floor(width)\n",
    "        except IndexError:\n",
    "            pass\n",
    "    return table\n",
    "\n",
    "def adjust_table_width(path):\n",
    "    \"\"\"\n",
    "    Function to adjust the column widths of all tables in a Word document\n",
    "    \"\"\"\n",
    "    # Open the Word document\n",
    "    doc = docx.Document(path)\n",
    "\n",
    "    # Extract the tables\n",
    "    tables = doc.tables\n",
    "\n",
    "    # Iterate through each table and pass it to the adjust_column_width() function\n",
    "    for table in tables:\n",
    "        updated_table = adjust_column_width(table)\n",
    "        width = updated_table[1]\n",
    "        if width:\n",
    "            for i, w in enumerate(width):\n",
    "                table._element.xpath('.//w:gridCol')[i].set(qn('w:w'), str(int(w * 1440)))\n",
    "    # Save the updated Word document\n",
    "    doc.save(\"/Users/senthil/Desktop/Senthil/myTesting/python_scripts/Table_width_adjusment/Chapter 3_updated.docx\")\n",
    "\n",
    "path=\"/Users/senthil/Desktop/Senthil/myTesting/python_scripts/Table_width_adjusment/Chapter 3.docx\"\n",
    "\n",
    "adjust_table_width(path)\n"
   ]
  },
  {
   "cell_type": "markdown",
   "metadata": {},
   "source": []
  }
 ],
 "metadata": {
  "kernelspec": {
   "display_name": "Python 3",
   "language": "python",
   "name": "python3"
  },
  "language_info": {
   "codemirror_mode": {
    "name": "ipython",
    "version": 3
   },
   "file_extension": ".py",
   "mimetype": "text/x-python",
   "name": "python",
   "nbconvert_exporter": "python",
   "pygments_lexer": "ipython3",
   "version": "3.10.7 (v3.10.7:6cc6b13308, Sep  5 2022, 14:02:52) [Clang 13.0.0 (clang-1300.0.29.30)]"
  },
  "orig_nbformat": 4,
  "vscode": {
   "interpreter": {
    "hash": "aee8b7b246df8f9039afb4144a1f6fd8d2ca17a180786b69acc140d282b71a49"
   }
  }
 },
 "nbformat": 4,
 "nbformat_minor": 2
}
