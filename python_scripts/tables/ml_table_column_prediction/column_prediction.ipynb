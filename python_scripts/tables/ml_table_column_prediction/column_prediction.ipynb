{
 "cells": [
  {
   "cell_type": "code",
   "execution_count": 10,
   "metadata": {},
   "outputs": [],
   "source": [
    "new_data = pd.DataFrame({\n",
    "    'col1': [6],\n",
    "    'col2': [2],\n",
    "    'col3': [2],\n",
    "    'col4': [2],\n",
    "    'col5': [2],\n",
    "    'col6': [2],\n",
    "    'col7': [2],\n",
    "    'col8': [1],\n",
    "    'col9': [-1],\n",
    "    'col10': [-1],\n",
    "    'col11': [-1],\n",
    "    'col12': [-1],\n",
    "    'col13': [-1],\n",
    "    'col14': [-1],\n",
    "    'col15': [-1]\n",
    "})\n",
    "\n",
    "predictions = model.predict(new_data)"
   ]
  },
  {
   "cell_type": "code",
   "execution_count": 5,
   "metadata": {},
   "outputs": [
    {
     "name": "stdout",
     "output_type": "stream",
     "text": [
      "{'Decision Tree': 17.189781420723154, 'Random Forest': 13.376245050601625, 'Gradient Boosting': 13.312745498518517, 'Support Vector': 16.80255602128622}\n"
     ]
    }
   ],
   "source": [
    "# Import libraries\n",
    "import pandas as pd\n",
    "from sklearn.model_selection import train_test_split\n",
    "from sklearn.metrics import mean_squared_error\n",
    "from sklearn.tree import DecisionTreeRegressor\n",
    "from sklearn.ensemble import RandomForestRegressor, GradientBoostingRegressor\n",
    "from sklearn.svm import SVR\n",
    "\n",
    "# Load the data\n",
    "data = pd.read_csv('/Users/senthil/Desktop/Senthil/my_testing/python_scripts/tables/ml_table_column_prediction/table_col_dataset2.csv')\n",
    "\n",
    "# Split the data into features and target variable\n",
    "X = data.drop('columnwidth', axis=1)\n",
    "y = data['columnwidth']\n",
    "\n",
    "# Split the data into training set and test set\n",
    "X_train, X_test, y_train, y_test = train_test_split(X, y, test_size=0.2, random_state=42)\n",
    "\n",
    "# Initialize models\n",
    "models = {\n",
    "    \"Decision Tree\": DecisionTreeRegressor(random_state=42),\n",
    "    \"Random Forest\": RandomForestRegressor(random_state=42),\n",
    "    \"Gradient Boosting\": GradientBoostingRegressor(random_state=42),\n",
    "    \"Support Vector\": SVR()\n",
    "}\n",
    "\n",
    "# Function to train and evaluate a model\n",
    "def train_and_evaluate(model, X_train, X_test, y_train, y_test):\n",
    "    model.fit(X_train, y_train)\n",
    "    y_pred = model.predict(X_test)\n",
    "    rmse = mean_squared_error(y_test, y_pred, squared=False)\n",
    "    return model, rmse\n",
    "\n",
    "# Train and evaluate the models\n",
    "trained_models = {name: train_and_evaluate(model, X_train, X_test, y_train, y_test) for name, model in models.items()}\n",
    "\n",
    "# Print model performance\n",
    "model_performance = {name: rmse for name, (model, rmse) in trained_models.items()}\n",
    "print(model_performance)\n",
    "\n"
   ]
  },
  {
   "cell_type": "code",
   "execution_count": 5,
   "metadata": {},
   "outputs": [
    {
     "name": "stdout",
     "output_type": "stream",
     "text": [
      "Prediction: 113.22\n"
     ]
    }
   ],
   "source": [
    "# Example new data for prediction\n",
    "new_data = pd.DataFrame({\n",
    "    'col1': [34],\n",
    "    'col2': [3],\n",
    "    'col3': [8],\n",
    "    'col4': [6],\n",
    "    'col5': [6],\n",
    "    'col6': [0],\n",
    "    'col7': [0],\n",
    "    'col8': [0],\n",
    "    'col9': [0],\n",
    "    'col10': [0],\n",
    "    'col11': [0],\n",
    "    'col12': [0],\n",
    "    'col13': [0],\n",
    "    'col14': [0],\n",
    "    'col15': [0]\n",
    "})\n",
    "\n",
    "new_data_df = pd.DataFrame(new_data)\n",
    "\n",
    "# Make a prediction with the trained Random Forest model\n",
    "rf_model = trained_models['Random Forest'][0]\n",
    "prediction = rf_model.predict(new_data_df)\n",
    "print(f'Prediction: {prediction[0]}')\n"
   ]
  }
 ],
 "metadata": {
  "kernelspec": {
   "display_name": "Python 3",
   "language": "python",
   "name": "python3"
  },
  "language_info": {
   "codemirror_mode": {
    "name": "ipython",
    "version": 3
   },
   "file_extension": ".py",
   "mimetype": "text/x-python",
   "name": "python",
   "nbconvert_exporter": "python",
   "pygments_lexer": "ipython3",
   "version": "3.10.7"
  },
  "orig_nbformat": 4
 },
 "nbformat": 4,
 "nbformat_minor": 2
}
