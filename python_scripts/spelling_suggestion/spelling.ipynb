{
 "cells": [
  {
   "cell_type": "code",
   "execution_count": 7,
   "metadata": {},
   "outputs": [],
   "source": [
    "file_path = '/Users/senthil/Desktop/Senthil/my_testing/python_scripts/spelling_suggestion/Project Creation Features Update v1.1.docx'\n"
   ]
  },
  {
   "cell_type": "code",
   "execution_count": null,
   "metadata": {},
   "outputs": [],
   "source": [
    "import docx\n",
    "import re\n",
    "\n",
    "def extract_spelling_grammar_suggestions(file_path):\n",
    "    doc = docx.Document(file_path)\n",
    "\n",
    "    suggestions = {\n",
    "        'spelling': [],\n",
    "        'grammar': []\n",
    "    }\n",
    "\n",
    "    # Extract the XML content as a string\n",
    "    xml_content = doc.part.blob.decode('utf-8')\n",
    "\n",
    "    # Search for the proofErr tags using regular expressions\n",
    "    proof_err_tags = re.findall(r'<w:proofErr w:type=\"(spellStart|spellEnd|gramStart|gramEnd)\"/>', xml_content)\n",
    "\n",
    "    suggestion_type = None\n",
    "    for tag in proof_err_tags:\n",
    "        if tag == 'spellStart':\n",
    "            suggestion_type = 'spelling'\n",
    "        elif tag == 'gramStart':\n",
    "            suggestion_type = 'grammar'\n",
    "        elif tag in ['spellEnd', 'gramEnd']:\n",
    "            suggestion_type = None\n",
    "        else:\n",
    "            continue\n",
    "\n",
    "        # Get the text within the proofErr tag (the suggestion)\n",
    "        suggestion = re.search(rf'<w:proofErr w:type=\"{tag}\"/>.*?<w:t>(.*?)</w:t>', xml_content, re.DOTALL)\n",
    "        if suggestion:\n",
    "            suggestions[suggestion_type].append(suggestion.group(1).strip())\n",
    "\n",
    "    return suggestions\n",
    "\n",
    "# Example usage:\n",
    "# file_path = 'path/to/your/word/document.docx'\n",
    "suggestions = extract_spelling_grammar_suggestions(file_path)\n",
    "print(\"Spelling suggestions:\", suggestions['spelling'])\n",
    "print(\"Grammar suggestions:\", suggestions['grammar'])\n"
   ]
  }
 ],
 "metadata": {
  "kernelspec": {
   "display_name": "Python 3",
   "language": "python",
   "name": "python3"
  },
  "language_info": {
   "codemirror_mode": {
    "name": "ipython",
    "version": 3
   },
   "file_extension": ".py",
   "mimetype": "text/x-python",
   "name": "python",
   "nbconvert_exporter": "python",
   "pygments_lexer": "ipython3",
   "version": "3.10.7"
  },
  "orig_nbformat": 4
 },
 "nbformat": 4,
 "nbformat_minor": 2
}
