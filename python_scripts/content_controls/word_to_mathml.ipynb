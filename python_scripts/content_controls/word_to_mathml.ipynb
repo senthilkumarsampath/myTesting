{
 "cells": [
  {
   "cell_type": "code",
   "execution_count": 23,
   "metadata": {},
   "outputs": [],
   "source": [
    "import docx\n",
    "import xml.etree.ElementTree as ET\n",
    "\n",
    "def extract_omath(file_path):\n",
    "    doc = docx.Document(file_path)\n",
    "    xml_content = doc._element.xml\n",
    "    root = ET.fromstring(xml_content)\n",
    "    omath_blocks = root.findall('.//m:oMathPara', {'m': 'http://schemas.openxmlformats.org/officeDocument/2006/math'})\n",
    "    return omath_blocks\n",
    "\n",
    "def write_omath_to_xml(omath_blocks, xml_file_path):\n",
    "    root = ET.Element(\"root\")\n",
    "    for block in omath_blocks:\n",
    "        root.append(block)\n",
    "    xml_str = ET.tostring(root, encoding=\"unicode\", method=\"xml\")\n",
    "    with open(xml_file_path, \"w\") as f:\n",
    "        f.write(xml_str)\n",
    "\n",
    "file_path = 'math.docx'\n",
    "omath_blocks = extract_omath(file_path)\n",
    "xml_file_path = 'math.xml'\n",
    "write_omath_to_xml(omath_blocks, xml_file_path)\n"
   ]
  }
 ],
 "metadata": {
  "kernelspec": {
   "display_name": "Python 3",
   "language": "python",
   "name": "python3"
  },
  "language_info": {
   "codemirror_mode": {
    "name": "ipython",
    "version": 3
   },
   "file_extension": ".py",
   "mimetype": "text/x-python",
   "name": "python",
   "nbconvert_exporter": "python",
   "pygments_lexer": "ipython3",
   "version": "3.10.7"
  },
  "orig_nbformat": 4,
  "vscode": {
   "interpreter": {
    "hash": "aee8b7b246df8f9039afb4144a1f6fd8d2ca17a180786b69acc140d282b71a49"
   }
  }
 },
 "nbformat": 4,
 "nbformat_minor": 2
}
