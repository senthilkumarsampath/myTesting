{
 "cells": [
  {
   "cell_type": "code",
   "execution_count": 9,
   "metadata": {},
   "outputs": [],
   "source": [
    "from docx import Document\n",
    "import re, os\n",
    "\n",
    "input_file =\"/Users/senthil/Desktop/Senthil/my_testing/Project_Creation/testing_briefs/TNF_04_K60165_C004.docx\"\n",
    "\n",
    "# space pattern for multiple number - front of the paragraph\n",
    "_spacepattern = re.compile (\"^(?:\\s)*$\")\n",
    "# patterns for break placeholder\n",
    "_breakChar = \"^(?:\\<[Bb]r\\>?)(?:eak)?(?:\\>)(?: +)?$\"\n",
    "# pattern for insert/figure/table placeholder\n",
    "_placeholder = \"(?i)^(?: +)?(insert\\s)((fig\\.?(?:ure)?(?:s)?|table(?:s)?|(?:text\\s)?(?:box)(?:es)?)\\s\\d+(\\.?\\d+)?([-]\\d+(\\.?\\d+))?(\\shere$)?$)|^((fig\\.?(?:ure)?(?:s)?|table(?:s)?|(?:text\\s)?(?:box)(?:es)?)\\s\\d+(\\.?\\d+)?([-]\\d+(\\.?\\d+))?)(\\shere)$\"\n",
    "# pattern for insert/figure/table placeholder with differet punctuations\n",
    "# _placeholder2 = re.compile (\"(?i)^(?: +)?[\\<\\[]? ?(?:insert\\s)?(fig\\.?(?:ure)?(?:s)?|table(?:s)?|(?:text)?\\s?(?:box)(?:es)?)\\s\\d+(\\.?\\d+)?(?:\\shere)?([-]\\d+(\\.?\\d+)?(?:\\shere)?)? ?[\\>\\]]$\")\n",
    "_placeholder2 = re.compile(\"(?i)^(?: +)?[\\<\\[]? ?(?:insert\\s)?(fig\\.?(?:ure)?(?:s)?|(?:image|map)|table(?:s)?|(?:text)?\\s?(?:box)(?:es)?)\\s\\d+(\\.?\\d+)?(?:\\shere)?([-]\\d+(\\.?\\d+)?(?:\\shere)?)? ?[\\>\\]]$\")\n",
    "# get file basename -- \n",
    "_filename=os.path.basename(input_file)\n",
    "\n",
    "document = Document(input_file)\n",
    "    # iterate over each paragraphs into Document obj\n",
    "for paragraphs in document.paragraphs:\n",
    "    # apply reg patterns for pre-editing\n",
    "    if re.search(_spacepattern,paragraphs.text) or re.search(_placeholder,paragraphs.text) or paragraphs.text.count(\"\\n\") == len(paragraphs.text) or re.search(_breakChar,paragraphs.text) or re.search(_placeholder2,paragraphs.text):\n",
    "        # print(paragraphs.text)\n",
    "        para = paragraphs._element\n",
    "        if not para.xpath('.//w:object') and not para.xpath('.//w:drawing') :\n",
    "            # remove para which are not required after regex\n",
    "            para.getparent().remove(para)\n",
    "            para._para = para._element = None\n",
    "\n",
    "document.save(\"modify.docx\")\n"
   ]
  },
  {
   "cell_type": "code",
   "execution_count": 5,
   "metadata": {},
   "outputs": [
    {
     "name": "stdout",
     "output_type": "stream",
     "text": [
      "<re.Match object; span=(0, 4), match='AU: '>\n"
     ]
    }
   ],
   "source": [
    "import re\n",
    "\n",
    "regex_pattern = \"^(\\w{2}(?:\\s+)?[:\\-](?:\\s+)?)\"\n",
    "text_data = 'AU: Data in italics'\n",
    "\n",
    "search_str = re.search(regex_pattern, text_data)\n",
    "print(search_str)"
   ]
  },
  {
   "cell_type": "code",
   "execution_count": 18,
   "metadata": {},
   "outputs": [
    {
     "name": "stdout",
     "output_type": "stream",
     "text": [
      "//para/figure/caption/para/emphasis/emphasis\n",
      "//listitem/para\n",
      "//title/emphasis\n",
      "//orderedlist/listitem/para/token\n",
      "//para/figure/label\n",
      "//listitem/para/emphasis\n",
      "//para/table/tgroup/thead/row/entry/tp/emphasis\n",
      "//para\n",
      "//title/emphasis/emphasis\n",
      "//table/title\n",
      "//para/emphasis\n",
      "//para/table/tgroup/tbody/row/entry/tp\n",
      "//table/tgroup/tbody/row/entry/tp\n",
      "//blockquote/para/emphasis\n",
      "//para/emphasis\n",
      "//title\n",
      "//table/label\n",
      "//blockquote/para\n",
      "//blockquote/para\n",
      "//itemizedlist/listitem/para/emphasis\n",
      "//para/link\n",
      "//dialogue/line/emphasis\n",
      "//title/emphasis\n",
      "//para/table/title\n",
      "//para/figure/caption/para/emphasis/emphasis\n",
      "//label/emphasis\n",
      "//title/emphasis\n",
      "//table/tgroup/thead/row/entry/tp/emphasis\n",
      "//title/emphasis/emphasis\n",
      "//table/tgroup/tbody/row/entry/tp\n",
      "//para/emphasis/superscript\n",
      "//listitem/para\n",
      "//para/table/tblfn/emphasis\n",
      "//para/link\n",
      "//para/figure/label\n",
      "//para\n",
      "//para/emphasis\n",
      "//para/table/label\n",
      "//orderedlist/listitem/para/emphasis\n",
      "//table/tgroup/tbody/row/entry/tp/emphasis\n"
     ]
    }
   ],
   "source": [
    "from lxml import etree\n",
    "\n",
    "def extract_xpath_with_text(element, path='', unique_elements=set()):\n",
    "    if element.text and element.text.strip() and element.tag not in ('chapter', 'section'):\n",
    "        unique_elements.add(path)\n",
    "\n",
    "    for child in element:\n",
    "        child_path = f\"{path}/{child.tag}\"\n",
    "        extract_xpath_with_text(child, child_path, unique_elements)\n",
    "\n",
    "def main():\n",
    "    # Replace 'your_docbook.xml' with the path to your DocBook XML file\n",
    "    docbook_file = '/Users/senthil/Desktop/Senthil/my_testing/Project_Creation/docbook/RL_09_POAV_C009_docbook.xml'\n",
    "\n",
    "\n",
    "    # Parse the XML file\n",
    "    tree = etree.parse(docbook_file)\n",
    "    root = tree.getroot()\n",
    "\n",
    "    unique_elements = set()\n",
    "    extract_xpath_with_text(root, '/', unique_elements)\n",
    "\n",
    "    # Print the unique XPath expressions containing text, excluding 'chapter' and 'section'\n",
    "    for xpath in unique_elements:\n",
    "        xpath_without_chapter_section = xpath.replace('/chapter', '').replace('/section', '')\n",
    "        print(xpath_without_chapter_section)\n",
    "\n",
    "if __name__ == \"__main__\":\n",
    "    main()\n"
   ]
  }
 ],
 "metadata": {
  "kernelspec": {
   "display_name": "Python 3",
   "language": "python",
   "name": "python3"
  },
  "language_info": {
   "codemirror_mode": {
    "name": "ipython",
    "version": 3
   },
   "file_extension": ".py",
   "mimetype": "text/x-python",
   "name": "python",
   "nbconvert_exporter": "python",
   "pygments_lexer": "ipython3",
   "version": "3.10.11"
  }
 },
 "nbformat": 4,
 "nbformat_minor": 2
}
